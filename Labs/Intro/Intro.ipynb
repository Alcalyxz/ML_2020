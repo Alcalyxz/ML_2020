{
  "nbformat": 4,
  "nbformat_minor": 0,
  "metadata": {
    "kernelspec": {
      "display_name": "Python 3",
      "language": "python",
      "name": "python3"
    },
    "language_info": {
      "codemirror_mode": {
        "name": "ipython",
        "version": 3
      },
      "file_extension": ".py",
      "mimetype": "text/x-python",
      "name": "python",
      "nbconvert_exporter": "python",
      "pygments_lexer": "ipython3",
      "version": "3.6.9-final"
    },
    "colab": {
      "name": "Intro.ipynb",
      "provenance": [],
      "toc_visible": true
    }
  },
  "cells": [
    {
      "cell_type": "markdown",
      "metadata": {
        "id": "tUVWKEi3aot6",
        "colab_type": "text"
      },
      "source": [
        "<a href=\"https://colab.research.google.com/github/jdariasl/ML_2020/blob/master/Labs/Intro/Intro.ipynb\" target=\"_parent\"><img src=\"https://colab.research.google.com/assets/colab-badge.svg\" alt=\"Open In Colab\"/></a>\n",
        "\n",
        "**Recuerda que una vez abierto, Da clic en \"Copiar en Drive\", de lo contrario no podras alamancenar tu progreso**\n"
      ]
    },
    {
      "cell_type": "code",
      "metadata": {
        "id": "4DAnyoh_qL8c",
        "colab_type": "code",
        "colab": {
          "base_uri": "https://localhost:8080/",
          "height": 272
        },
        "outputId": "891e64d9-ce50-4e08-ad2b-9066449733c5",
        "tags": []
      },
      "source": [
        "# Siempre Ejecuta esta linea de codigos\n",
        "# esta configura librerias y ciertas funciones\n",
        "# necesarias para esta sesión\n",
        "!wget https://raw.githubusercontent.com/jdariasl/ML_2020/labs/Labs/commons/utils/general.py -O general.py\n",
        "from general import configure_intro\n",
        "configure_intro()"
      ],
      "execution_count": null,
      "outputs": []
    },
    {
      "cell_type": "markdown",
      "metadata": {
        "id": "yK1tqpADaot7",
        "colab_type": "text"
      },
      "source": [
        "# Introdución para los laboratorios de Machine Learning\n",
        "\n",
        "Este material explica a detalle los laboratorios que realizarán durante el curso. Los laboratorios están en Python 3.7, y son escritos usando [notebooks](https://jupyter.org) que estan adaptados para ser ejecutados en la herramienta [Google Colab](https://colab.research.google.com/notebooks/intro.ipynb#scrollTo=5fCEDCU_qrC0).\n",
        "\n",
        "También encontraran links a un [Google Form](https://www.google.com/intl/es-419_co/forms/about/) donde deberán responder preguntas abiertas relacionadas con el desarrollo de cada sesión de laboratorio. Estos formularios estarán abiertos la semana en la que tenemos el laboratorio y seran cerrados unas Horas despues de tener nuestra sesión de laboratorio.\n",
        "\n",
        "En este notebook veremos la siguiente información que sera nuestra base para todas nuestras sesiones.\n",
        "\n",
        "1. Introducción a [Google Colab](https://colab.research.google.com/notebooks/intro.ipynb#scrollTo=5fCEDCU_qrC0) y de como usarlos para el desarrollo de las practicas\n",
        "2. Conceptos rapidos de Python\n",
        "2. Manejo de vectores y matrices en NumPy\n",
        "3. Manejo de estructuras de datos en pandas\n",
        "4. Manejo de gráficas en matplotlib y pandas\n",
        "5. Estructuras de los laboratorios y comentarios finales\n",
        "\n",
        "En cada una de las secciones pueden encontrar diferentes ejercicios para ir practicando y afianzado los conceptos presentados."
      ]
    },
    {
      "cell_type": "markdown",
      "metadata": {
        "id": "oCvoFU33aot8",
        "colab_type": "text"
      },
      "source": [
        "# Google Colab y Jupyter Notebook\n",
        "\n",
        "Un Jupyter notebook es un proyecto open source que permite ejecutar interactivamente varios lenjuages de programación. Su nombre es un referencia a los lenguajes que fueron principales en el inicio el proyecto: JUlia, PYThon y R. Pero en la actulidad se han expandido a muchos otras más. Este proyecto también se conocio antes bajo el nombre de **IPython Notebooks**.  Los notebooks, en su formato \"crudo\" son un archivo [JSON](https://en.wikipedia.org/wiki/JSON) que es renderizado para permitir combinar tanto codigo, texto (Usando [Markdown](https://en.wikipedia.org/wiki/Markdown)), lenguaje matemático y graficas.\n",
        "\n",
        "Los notebooks pueden ser ejecutados en diferentes entornos. Estos entornos pueden ser locales (requieren instalación y configuración) o en la nube por medio de un navegador moderno (no requiere ninguna configuración).\n",
        "\n",
        "- Distribuición de [Anaconda](https://www.anaconda.com/). (Recomendado para Windows y macOs)\n",
        "- Administrador de paquetes pip. (Recomendado para Linux) [Tutorial](https://www.digitalocean.com/community/tutorials/how-to-set-up-jupyter-notebook-with-python-3-on-ubuntu-18-04)\n",
        "- Contenedor en docker\n",
        "- [Google Colab](https://colab.research.google.com/notebooks/intro.ipynb#scrollTo=5fCEDCU_qrC0)\n",
        "- [Binder](https://mybinder.org/)\n",
        "\n",
        "Como se ha mencionado, este notebook y el resto de nuestros sesiones están adaptados para usar Google Colab, pero con un muy pequeño esfuerzo también pueden ser adaptados para ser ejecutados en cualquier entorno mencionado. **Esto ultimo no es recomendado y no es objetivo del curso**,  y no se podrán revisar laboratorios que no sigan las instrucciones detalladas en la ultima sección de este documento.\n",
        "\n",
        "En la industria, los jupyter notebooks son un herramienta altamente adoptada y se considera \"quasi-estandar\" para el desarrollo, documentación y comunicación de resultados de investigación en trabajos de ciencia de datos. Sin embargo también ha logrado una buena pouplaridad en otros entornos. inlcusive, se ha discuito que [pueden ser una buena alternativa para susbtituir el formato estandar del paper cientifico](https://www.theatlantic.com/science/archive/2018/04/the-scientific-paper-is-obsolete/556676/). De la misma manera los jupyter notebook son la base para productos comerciales de los principales proveedores de computación en la nube como lo son:\n",
        "- [AI Platform](https://cloud.google.com/ai-platform/?hl=es-419) De Google Computing Platform\n",
        "- [Amazon SageMaker](https://aws.amazon.com/es/sagemaker/) de Amazon Web Services\n",
        "- [Azure Notebooks](https://notebooks.azure.com/) de Microsoft Azure\n",
        "- Y otros servicios usados en entornos de Big Data como son [Databricks](https://databricks.com/), [Cloudera](https://www.cloudera.com/products/data-science-and-engineering/data-science-workbench.html) y [Apache Zepelin](https://zeppelin.apache.org/).\n",
        "\n",
        "Sin embargo es totalmente vital, aclarar que los notebooks son un entorno para exploración interactiva y presentar resultados que sean reproducibles. No es recomendado su uso para tareas de software engineering \"más puras\" (codigo de una aplicación,API, codigo de un sistema productivo, etc). \n",
        "\n",
        "Cada dia cobra mas fuerza la siguiente idea: **los notebooks son usados en las primeras etapas de desarollo de una aplicación de ML. Pero cuando el modelo cada vez esta más cerca a un entorno \"productivo\", el codigo de un notebook debe ser refactorizado a un codigo que sea mas sencillo de mantener y administrar** ([En este video se hace una discusión interesante y otras críticas](https://www.youtube.com/watch?v=7jiPeIFXb6U)). En las últimas sesiones de nuestro laboratorio, realizaremos una práctica donde ahondaremos un poco mas en este tema."
      ]
    },
    {
      "cell_type": "markdown",
      "metadata": {
        "id": "VbU2eqv_aot8",
        "colab_type": "text"
      },
      "source": [
        "## Manejo de Google Colab\n",
        "\n",
        "Colaboratory, o Colab, te permite escribir y ejecutar código de Python en un navegador. \n",
        "- Sin configuración requerida\n",
        "- Acceso gratuito a GPU\n",
        "- Facilidad para compartir\n",
        "\n",
        "No importa si eres **estudiante**, **científico de datos*** o **investigador de IA**, Colab fue concebido para facilitarnos algunas de nuestras tareas. Mira [este video introductorio sobre Colab](https://www.youtube.com/watch?v=inN8seMm7UI). En Colab, existen dos tipos de celdas:\n",
        "\n",
        "> Las celdas de texto: estan escrita con *Markdown*, un lenguaje de etiquetado más legible para la decoración de texto, se puede hacer desde encabezados, usar [LaTeX](http://www.latex-project.org/), símbolos matemáticos, listas enumeradas, entre otros.  \n",
        "\n",
        "> Las celdas de código: son ejecutables, es decir, se pueden correr individualmente.\n",
        "\n",
        "Cada notebook inicia con este icono:\n",
        "\n",
        "<a href=\"https://colab.research.google.com/github/jdariasl/ML_2020/blob/master/Labs/Intro/Intro.ipynb\" target=\"_parent\"><img src=\"https://colab.research.google.com/assets/colab-badge.svg\" alt=\"Open In Colab\"/></a>\n",
        "\n",
        "Que abrira automaticamente el notebook que estas observando en Google Colab. Recuerda que una vez abierto, Debes dar clic en \"Copiar en Drive\". De lo contrario no podras alamancenar tu progreso y ni compartirlo con tu profesor. \n",
        "\n",
        "Como se menciono, cada celda de codigo se ejecuta por separado. Esto implica que **la ejecución se realiza de arriba hacia abajo en orden**, de este modo ya están cargadas las librerías o variables previamente. Es así como evitamos problemas de importación de librerías o variables sin definir.\n",
        "\n",
        "Por ejemplo, esta es una celda de código con una secuencia de comandos Python corta que calcula un valor, lo almacena en una variable y devuelve el resultado:\n",
        "\n"
      ]
    },
    {
      "cell_type": "code",
      "metadata": {
        "id": "PnEzztjvaot8",
        "colab_type": "code",
        "colab": {
          "base_uri": "https://localhost:8080/",
          "height": 34
        },
        "outputId": "7713f79b-209d-4655-e8e9-3e32488d2fe9"
      },
      "source": [
        "seconds_in_a_day = 24 * 60 * 60\n",
        "seconds_in_a_day"
      ],
      "execution_count": null,
      "outputs": []
    },
    {
      "cell_type": "markdown",
      "metadata": {
        "id": "RCe8veMlaot_",
        "colab_type": "text"
      },
      "source": [
        "A fin de ejecutar el código en la celda anterior, haz clic en él para seleccionarlo y, luego, presiona el botón de reproducción ubicado a la izquierda del código o usa la combinación de teclas \"Command/Ctrl + Intro\". Para editar el código, solo haz clic en la celda y comienza a editar.\n",
        "\n",
        "Las variables que defines en una celda pueden usarse en otras:"
      ]
    },
    {
      "cell_type": "code",
      "metadata": {
        "id": "N1X5P20paouA",
        "colab_type": "code",
        "colab": {
          "base_uri": "https://localhost:8080/",
          "height": 34
        },
        "outputId": "71e898f4-e37f-430c-cd19-6ad29454eea3"
      },
      "source": [
        "seconds_in_a_week = 7 * seconds_in_a_day\n",
        "seconds_in_a_week"
      ],
      "execution_count": null,
      "outputs": []
    },
    {
      "cell_type": "markdown",
      "metadata": {
        "id": "GANDUx4baouC",
        "colab_type": "text"
      },
      "source": [
        "!Ahora es tu turno!\n",
        "Haz click en la opción \"+ Texto\" (en la parte de arriba o al final de la celda, tambien te debe aparecer y dirijes el puntero en la parte inferior de la celda) y añade una celda de texto y prueba escribir algo.\n",
        "\n",
        "Luego, añande una celda de código  en la opción \" + Codigo\"  (en la parte de arriba o al final de la celda, tambien te debe aparecer y dirijes el puntero en la parte inferior de la celda) y escribe las siguientes\n",
        "lineas y ejecatalas. \n",
        "\n",
        "``` python\n",
        "zero_to_nine = range(0,10)\n",
        "for n in zero_to_nine:\n",
        "    print(n)\n",
        "```\n",
        "\n",
        "¿cual es la salida?"
      ]
    },
    {
      "cell_type": "markdown",
      "metadata": {
        "id": "tWjfcaDIUUvV",
        "colab_type": "text"
      },
      "source": [
        "Tambien es de utilidad conocer los shorcuts o accesos rapidos de colab, explora que combinaciones de teclas te pueden servir para agilizar el trabajo en Colab.\n",
        "\n",
        "![colabshortcuts](https://miro.medium.com/max/625/1*BmBIeAJrSl47_1j3TlxQUQ.png)"
      ]
    },
    {
      "cell_type": "markdown",
      "metadata": {
        "id": "lbfZQzKaHCbl",
        "colab_type": "text"
      },
      "source": [
        "## Conceptos rapidos de Python\n",
        "\n",
        "En esta sección se hace un recuerdo/presentación de conceptos utiles de Python, si bien para el desarrollo del curso no es necesario y no se busca que las practicas esten enfocadas a desarrollar habilidades especificas de Python, si es de utilidad tener claras algunas capacidades de Python."
      ]
    },
    {
      "cell_type": "code",
      "metadata": {
        "id": "OWywORljVQqo",
        "colab_type": "code",
        "colab": {}
      },
      "source": [
        "# Tuplas\n",
        "tup = (1, \"hola\", 3)\n",
        "print (tup[0])\n",
        "#tup[1] = 2    #Esto es un error\n"
      ],
      "execution_count": null,
      "outputs": []
    },
    {
      "cell_type": "code",
      "metadata": {
        "id": "kMvw2oJoHIPk",
        "colab_type": "code",
        "colab": {}
      },
      "source": [
        "# Listas\n",
        "lista = [2, 3, 2.5, \"Hola\"]\n",
        "print (lista[2])\n",
        "lista[2] = \"nuevo\"\n",
        "print (lista[2])"
      ],
      "execution_count": null,
      "outputs": []
    },
    {
      "cell_type": "code",
      "metadata": {
        "id": "ZHx7W-cGVURt",
        "colab_type": "code",
        "colab": {}
      },
      "source": [
        "# Diccionarios\n",
        "\n",
        "dic = {\"clave\": \"valor\", \"1\": 324, \"2\": \"Hola\"}\n",
        "print (dic[\"clave\"])"
      ],
      "execution_count": null,
      "outputs": []
    },
    {
      "cell_type": "code",
      "metadata": {
        "id": "Bj4k7oE-VWyT",
        "colab_type": "code",
        "colab": {}
      },
      "source": [
        "#Conjuntos\n",
        "conjunto = {1, 3, \"hola\"}\n",
        "print(conjunto)"
      ],
      "execution_count": null,
      "outputs": []
    },
    {
      "cell_type": "code",
      "metadata": {
        "id": "3i0k_zCLcI2B",
        "colab_type": "code",
        "colab": {
          "base_uri": "https://localhost:8080/",
          "height": 51
        },
        "outputId": "efde4ff6-4690-4b62-d35a-6c13ea53265c"
      },
      "source": [
        "## Estrucutra if else\n",
        "age=17\n",
        "\n",
        "if age>18:\n",
        "    print(\"you can enter\" )\n",
        "elif age==18:\n",
        "    print(\"go see Pink Floyd\")\n",
        "else:\n",
        "    print(\"go see Black pink / BTS\" )\n",
        "    \n",
        "\n",
        "print(\"move on\")"
      ],
      "execution_count": null,
      "outputs": []
    },
    {
      "cell_type": "code",
      "metadata": {
        "id": "RYs8HDsqd3ya",
        "colab_type": "code",
        "colab": {
          "base_uri": "https://localhost:8080/",
          "height": 221
        },
        "outputId": "e4a9fbc8-1ec3-404f-8ecf-ee874337ce5c"
      },
      "source": [
        "dates = [1982,1980,1973]\n",
        "N=len(dates)\n",
        "\n",
        "# iterar en el indice\n",
        "for i in range(N):\n",
        "    print(dates[i]) \n",
        "# iterar en los elementos\n",
        "for i in dates:\n",
        "    print(i) \n",
        "# usar enumerate\n",
        "for n,i in enumerate (dates):\n",
        "    print(n, i) \n",
        "# iterar en dos listas de igual tamaño\n",
        "a = [1, 2, 3]\n",
        "b = [\"one\", \"two\", \"three\"]\n",
        "for num, letra in zip(a,b):\n",
        "    print(num,letra)"
      ],
      "execution_count": null,
      "outputs": []
    },
    {
      "cell_type": "code",
      "metadata": {
        "id": "x2AxZBr2edAW",
        "colab_type": "code",
        "colab": {
          "base_uri": "https://localhost:8080/",
          "height": 85
        },
        "outputId": "9cda93ea-2c35-4bdc-e615-26b7b80f8311"
      },
      "source": [
        "## Ciclos Whiles\n",
        "dates = [1982,1980,1973,2000]\n",
        "i=0;\n",
        "year=0\n",
        "while(year!=1973):\n",
        "    year=dates[i]\n",
        "    i=i+1\n",
        "    print(year)\n",
        "      \n",
        "print(\"it took \", i ,\"repetitions to get out of loop\")"
      ],
      "execution_count": null,
      "outputs": []
    },
    {
      "cell_type": "markdown",
      "metadata": {
        "id": "c7MGiwtRaouC",
        "colab_type": "text"
      },
      "source": [
        "# Manejo vectores y matrices en NumPy\n",
        "\n",
        "NumPy es un paquete que proporciona herramientas y técnicas para manipular estructuras de datos con matrices, es mucho mejor que las listas de Python, tiene acceso y escritura más rápida. Posee una amplia colección de herramientas y técnicas que se pueden utilizar para resolver problemas mátematicos, además de que contiene todas las funciones para trabajar con matrices.\n",
        "\n",
        "A continuación encontrá algunas funciones muy útiles para los laboratorios, tales como:\n",
        "- Creación de matrices\n",
        "- Suma y resta de vectores\n",
        "- Producto de dos vectores\n",
        "- Producto de dos matrices\n",
        "- Multiplicación matricial\n",
        "- Indexación de matrices\n"
      ]
    },
    {
      "cell_type": "markdown",
      "metadata": {
        "id": "MAhJcg3XaouC",
        "colab_type": "text"
      },
      "source": [
        "## Creación de matrices \n",
        "\n",
        "El paquete NumPy introdujo los arrays N-dimensionales, acontinuación se mostrará las rutinas más utilizadas en los laboratorios. (Más rutinas [aquí](https://docs.scipy.org/doc/numpy/reference/routines.array-creation.html))"
      ]
    },
    {
      "cell_type": "code",
      "metadata": {
        "id": "vQuL9GvoaouD",
        "colab_type": "code",
        "colab": {},
        "outputId": "c2421d98-320e-451f-8f62-8384e9757b89"
      },
      "source": [
        "#Creacion de array de ceros y unos\n",
        "zeros=np.zeros(10)\n",
        "print(\"Array de 10 ceros:\", zeros)\n",
        "ones=np.ones(10)\n",
        "print(\"Array de 10 unos:\", ones)\n",
        "array1 = np.arange(5)  # Array de 5 enteros contando el 0\n",
        "print(\"Array de 5 enteros: \",array1)\n",
        "line = np.linspace(0.0, 1.0, 5) #start, stop, num de puntos\n",
        "print(\"Array organizados unif.: \",line)\n",
        "v1 = np.array([8,6,-5,76,9.7]) #Array de una lista\n",
        "print(\"Array de una lista: \",v1)"
      ],
      "execution_count": null,
      "outputs": []
    },
    {
      "cell_type": "code",
      "metadata": {
        "id": "paS9lMaJaouF",
        "colab_type": "code",
        "colab": {}
      },
      "source": [
        "## Ejercicio Crear array de ceros con dimension 3x2** \n",
        "### HINT: ¿como es el parametro a np.zeros?\n",
        "\n"
      ],
      "execution_count": null,
      "outputs": []
    },
    {
      "cell_type": "code",
      "metadata": {
        "id": "_9Pi0EzRaouH",
        "colab_type": "code",
        "colab": {
          "base_uri": "https://localhost:8080/",
          "height": 51
        },
        "outputId": "53adf400-a013-48e4-9fd4-9052a54e6c8f"
      },
      "source": [
        "# Inicializar un vector manualmente de 1D\n",
        "#Array de una lista\n",
        "v1 = np.array([3,-1,2]) \n",
        "v2= np.array([2,-1,3])\n",
        "print(\"v1: \",v1)\n",
        "print(\"v2: \",v2)"
      ],
      "execution_count": null,
      "outputs": []
    },
    {
      "cell_type": "code",
      "metadata": {
        "id": "rGGjEuw8aouJ",
        "colab_type": "code",
        "colab": {
          "base_uri": "https://localhost:8080/",
          "height": 34
        },
        "outputId": "4e97b864-083b-471e-f550-c1a61d4291e9"
      },
      "source": [
        "# Suma y resta de vectores\n",
        "#(para la resta usamos -)\n",
        "suma1 = v1 + v2 \n",
        "print(suma1)\n"
      ],
      "execution_count": null,
      "outputs": []
    },
    {
      "cell_type": "code",
      "metadata": {
        "id": "hUdu0eKgaouL",
        "colab_type": "code",
        "colab": {},
        "outputId": "e26433aa-975a-4ee1-ad1a-202903a3fdf1"
      },
      "source": [
        "# producto elemento a elemento\n",
        "prod1 = v1*v2\n",
        "print (\"Producto elemeto a elemento\",prod1)\n",
        "\n",
        "#Producto matricial\n",
        "prod1 = np.dot(v1,v2)\n",
        "print (\"Producto matricial\",prod1)\n",
        "\n",
        "prod2 = v1 @ v2\n",
        "print(\"Producto matricial\",prod2)\n"
      ],
      "execution_count": null,
      "outputs": []
    },
    {
      "cell_type": "markdown",
      "metadata": {
        "id": "m5nU1Yaxqqiz",
        "colab_type": "text"
      },
      "source": [
        "Escribe el codigo de Python usando numpy, para realizar la siguiente operacion, siendo $\\odot$ la representación de la multiplicación elemento a elmento, y $\\cdot$ el producto matricial.\n",
        "\n",
        "$r = (v_{1}\\odot v_{2}) + v_{1} - v_{2} + (v1 \\cdot v2) $\n",
        "\n",
        "Siendo v1 y v2 los vectores v1 y v2 ejecutadas en la celda anterior. Finalmente imprime el resultado `r`. \n",
        "En este  ejercicio tambien vas observar en funcionamiento un concepto de *numpy* llamado [Broadcasting](https://machinelearningmastery.com/broadcasting-with-numpy-arrays/)."
      ]
    },
    {
      "cell_type": "code",
      "metadata": {
        "id": "_uSM-V-sq4EL",
        "colab_type": "code",
        "colab": {}
      },
      "source": [
        "## Ejercicio: Escribe aca la operación\n",
        "### El resultado debe ser [20, 14, 18]\n",
        "r = \n",
        "print (r)"
      ],
      "execution_count": null,
      "outputs": []
    },
    {
      "cell_type": "code",
      "metadata": {
        "id": "oRVynbWlaouN",
        "colab_type": "code",
        "colab": {
          "base_uri": "https://localhost:8080/",
          "height": 51
        },
        "outputId": "d55c7dbb-9151-47a3-d312-b81b2c19ebe8"
      },
      "source": [
        "# Indexar una matriz manualmente 2x3\n",
        "# la entrada en una lista de lista.\n",
        "# cada lista es un renglon de la matriz\n",
        "# cada renglon debe tener las mismas columnas \n",
        "# (el mismo tamaño de lista)\n",
        "\n",
        "m1 = np.array([[1,2,3],[0.5,0.3,2.1]])\n",
        "print (m1)\n"
      ],
      "execution_count": null,
      "outputs": []
    },
    {
      "cell_type": "markdown",
      "metadata": {
        "id": "O9F0PwfEaouO",
        "colab_type": "text"
      },
      "source": [
        "¿Cuántas filas y columnas tiene la variable m1?"
      ]
    },
    {
      "cell_type": "code",
      "metadata": {
        "id": "CHWPHPzCaouP",
        "colab_type": "code",
        "colab": {}
      },
      "source": [
        "print(\"Shape m1\", )"
      ],
      "execution_count": null,
      "outputs": []
    },
    {
      "cell_type": "code",
      "metadata": {
        "id": "0WA9C8n9aouQ",
        "colab_type": "code",
        "colab": {
          "base_uri": "https://localhost:8080/",
          "height": 85
        },
        "outputId": "b7ff3cee-1767-49bd-e41f-f15b5b2818c1"
      },
      "source": [
        "m2 = np.array([[1,2],[2,1],[3,1]]) # [3x2]\n",
        "print (\"dimensiones de m2\",np.shape(m2))\n",
        "print(m2)"
      ],
      "execution_count": null,
      "outputs": []
    },
    {
      "cell_type": "code",
      "metadata": {
        "id": "EA8gWGFmaouT",
        "colab_type": "code",
        "colab": {
          "base_uri": "https://localhost:8080/",
          "height": 119
        },
        "outputId": "17d7f8b7-cf06-4fb0-8d80-3a914394e535"
      },
      "source": [
        "#Producto de dos matrices\n",
        "print (\"Productor de dos matrices \\n\",np.dot(m1,m2))\n",
        "print(\"Producto de dos matrices @\\n\",m1@m2)"
      ],
      "execution_count": null,
      "outputs": []
    },
    {
      "cell_type": "code",
      "metadata": {
        "id": "tdkYMTEXaouU",
        "colab_type": "code",
        "colab": {
          "base_uri": "https://localhost:8080/",
          "height": 68
        },
        "outputId": "859a65ff-46de-400d-a460-6f04b16f318f"
      },
      "source": [
        "#Producto elemento a elemento\n",
        "m3 = np.array([[1,2],[2,1]]) # [3x2]\n",
        "print (\"ls dimensiones es de m3\", np.shape(m3))\n",
        "print(m3*m3)"
      ],
      "execution_count": null,
      "outputs": []
    },
    {
      "cell_type": "markdown",
      "metadata": {
        "id": "twF1lkaHaouW",
        "colab_type": "text"
      },
      "source": [
        "¿Por qué el siguiente código produce error? "
      ]
    },
    {
      "cell_type": "code",
      "metadata": {
        "id": "cIg5kzl-aouW",
        "colab_type": "code",
        "colab": {}
      },
      "source": [
        "print (m1*m2)"
      ],
      "execution_count": null,
      "outputs": []
    },
    {
      "cell_type": "markdown",
      "metadata": {
        "id": "gD_Vp2NOaouY",
        "colab_type": "text"
      },
      "source": [
        "Se debe organizar las dimensiones de la matriz para hacer la multiplicación elemento a elemento correctamente. \n",
        "\n",
        "¿Cómo se puede solucionar?"
      ]
    },
    {
      "cell_type": "code",
      "metadata": {
        "id": "vjS_DRFUaouY",
        "colab_type": "code",
        "colab": {
          "base_uri": "https://localhost:8080/",
          "height": 85
        },
        "outputId": "0b853b89-9fa4-4237-f6a3-edbf42fa5e73"
      },
      "source": [
        "# usando la transpuesta!\n",
        "m1_new = m1.T\n",
        "print(\"New shape m1\", m1_new.shape)\n",
        "print(m1_new*m2)"
      ],
      "execution_count": null,
      "outputs": []
    },
    {
      "cell_type": "code",
      "metadata": {
        "id": "kRHH4GBSaoua",
        "colab_type": "code",
        "colab": {
          "base_uri": "https://localhost:8080/",
          "height": 85
        },
        "outputId": "e38cdd92-b96f-40fe-d107-e7a9621bb9a4"
      },
      "source": [
        "# pero también podria hacer re-shape?\n",
        "m1_new2 = m1.reshape((3,2))\n",
        "print(\"New shape m1\", m1_new2.shape)\n",
        "print(m1_new2*m2)"
      ],
      "execution_count": null,
      "outputs": []
    },
    {
      "cell_type": "code",
      "metadata": {
        "scrolled": true,
        "id": "gv5h8nDyaouc",
        "colab_type": "code",
        "colab": {
          "base_uri": "https://localhost:8080/",
          "height": 85
        },
        "outputId": "70f81001-21ee-4704-d129-6d0e3dcf6e97"
      },
      "source": [
        "m1_new2 = m1.reshape((3,-1))\n",
        "print(\"New shape m1\", m1_new2.shape)\n",
        "print(m1_new2*m2)"
      ],
      "execution_count": null,
      "outputs": []
    },
    {
      "cell_type": "markdown",
      "metadata": {
        "id": "qy3Rw1lRaoue",
        "colab_type": "text"
      },
      "source": [
        "¿Hay alguna diferencia con la matriz m1 después de hacer el reshape, los resultados son diferentes?\n",
        "\n",
        "_Reshape_: Asigna una nueva forma a la matriz ya sea un entero para una dimensión o una tupla para N-Dimensiones\n"
      ]
    },
    {
      "cell_type": "code",
      "metadata": {
        "id": "9QUXulyhaouf",
        "colab_type": "code",
        "colab": {
          "base_uri": "https://localhost:8080/",
          "height": 68
        },
        "outputId": "57737a9e-2b0b-44eb-b055-8a8265155fa6"
      },
      "source": [
        "a = np.arange(6).reshape((3, 2))\n",
        "a"
      ],
      "execution_count": null,
      "outputs": []
    },
    {
      "cell_type": "code",
      "metadata": {
        "id": "aB8svfVNaoug",
        "colab_type": "code",
        "colab": {
          "base_uri": "https://localhost:8080/",
          "height": 102
        },
        "outputId": "ad53fe4d-ab2c-4056-eac3-8d9bd44c892a"
      },
      "source": [
        "b = np.arange(6).reshape((3,1,2))\n",
        "b"
      ],
      "execution_count": null,
      "outputs": []
    },
    {
      "cell_type": "code",
      "metadata": {
        "id": "W9ijZNDVaouk",
        "colab_type": "code",
        "colab": {
          "base_uri": "https://localhost:8080/",
          "height": 34
        },
        "outputId": "96ecc512-ba97-4f18-8ae5-73476fa38938"
      },
      "source": [
        "b = b.reshape((6))\n",
        "b"
      ],
      "execution_count": null,
      "outputs": []
    },
    {
      "cell_type": "markdown",
      "metadata": {
        "id": "PNn1jqQpaoun",
        "colab_type": "text"
      },
      "source": [
        "¡Cuidado con la asignación de variables! Python usa variables referenciadas. Si se requiere hacer una copia se debe usar el método \".copy\"."
      ]
    },
    {
      "cell_type": "code",
      "metadata": {
        "id": "qrn5HSNJ80Id",
        "colab_type": "code",
        "colab": {
          "base_uri": "https://localhost:8080/",
          "height": 119
        },
        "outputId": "488cded9-ce39-4dc1-cd2f-2e14dfa2b1c0"
      },
      "source": [
        "# si se usa = se crea una referencia\n",
        "print(\"m1 antes de hacer la referencia \\n\", m1)\n",
        "m4 = m1\n",
        "m4[0,1] = 9\n",
        "print (\"M1 se modifica aunque no se 'hizo' ninguna operacion a esta variable \"\"m1\\n\",m1)"
      ],
      "execution_count": null,
      "outputs": []
    },
    {
      "cell_type": "code",
      "metadata": {
        "id": "iYsEf5SCaoun",
        "colab_type": "code",
        "colab": {
          "base_uri": "https://localhost:8080/",
          "height": 204
        },
        "outputId": "11d9c511-5061-4e10-f43a-a7be627e3973"
      },
      "source": [
        "print (\"Ahora con el metodo copy\")\n",
        "print(\"m1 antes de hacer el copy \\n\", m1)\n",
        "m5 = np.copy(m1)\n",
        "m5[1,1] = 9\n",
        "print (\"m5 es m1 con el valor modificado \\n\",m5)\n",
        "print (\"Pero m1 esta vez no es modificado\")\n",
        "print (\"m1 \\n\",m1)"
      ],
      "execution_count": null,
      "outputs": []
    },
    {
      "cell_type": "markdown",
      "metadata": {
        "id": "MpWLQysEaouo",
        "colab_type": "text"
      },
      "source": [
        "## Indexación\n",
        "\n",
        "Para hacer una indexación en matrices se accede con los corchetes y siempre se define así: [filas,columnas]. Observa que la separación se realiza con una coma ( , )\n",
        "\n",
        "    x = matrix[filas, columnas]\n",
        "    \n",
        "Si deseo escoger entre la fila x hasta y debe ser separado por dos puntos **:**, de la siguiente forma:\n",
        "\n",
        "    x = matrix[x:y,]\n",
        "    \n",
        "\n",
        "De la misma forma aplica para las columnas, si quiero la primera columna:\n",
        "\n",
        "    x = matrix[0:2,0:1]\n",
        "    \n",
        "Acceder a los últimas posiciones:\n",
        "\n",
        "    x = matrix[0:-1,0:-1]\n",
        "    \n"
      ]
    },
    {
      "cell_type": "code",
      "metadata": {
        "id": "RQPHpNULaoup",
        "colab_type": "code",
        "colab": {},
        "outputId": "f08ad209-76e2-42c4-ad97-388ae58d629b"
      },
      "source": [
        "print(\"Original m2\")\n",
        "print(m2)\n",
        "print(\"----\")\n",
        "new_m2 = m2[0:2,]\n",
        "print(\"Nuevo m2, dos primeras filas\")\n",
        "print(new_m2)\n",
        "new_m2 = m2[0:2,0:1]\n",
        "print(\"Nuevo m2, dos primeras filas y primera columna\")\n",
        "print(new_m2)"
      ],
      "execution_count": null,
      "outputs": []
    },
    {
      "cell_type": "code",
      "metadata": {
        "id": "kmwScE-Eaouq",
        "colab_type": "code",
        "colab": {},
        "outputId": "47351d13-5029-4bcf-c297-10ac9a7a227c"
      },
      "source": [
        "m4 = np.arange(5,25).reshape((10,2))\n",
        "m4"
      ],
      "execution_count": null,
      "outputs": []
    },
    {
      "cell_type": "code",
      "metadata": {
        "id": "Xj9_Zf74aout",
        "colab_type": "code",
        "colab": {}
      },
      "source": [
        "## Ejercicio: Obtener las últimas dos filas del anterior vector\n",
        "## Hint: debe retonar [[21, 22], [23, 24]]\n",
        "last_m2 =  m4[]\n",
        "last_m2"
      ],
      "execution_count": null,
      "outputs": []
    },
    {
      "cell_type": "markdown",
      "metadata": {
        "id": "wm5rVVATaouu",
        "colab_type": "text"
      },
      "source": [
        "## Concatenar vectores y matrices\n"
      ]
    },
    {
      "cell_type": "code",
      "metadata": {
        "id": "71Oi3lcAaouu",
        "colab_type": "code",
        "colab": {
          "base_uri": "https://localhost:8080/",
          "height": 119
        },
        "outputId": "7781332d-d621-440b-de76-b5d858e112c9"
      },
      "source": [
        "a = np.array([[1,5,9], [2,6,10]])\n",
        "b = np.array([[3,7,11], [4,8,12]])\n",
        "print(\"a:\\n \", a, \"\\n b: \\n\", b)"
      ],
      "execution_count": null,
      "outputs": []
    },
    {
      "cell_type": "code",
      "metadata": {
        "id": "iYLsjwglaouw",
        "colab_type": "code",
        "colab": {},
        "outputId": "7d240921-31d8-48e0-d722-1b5dfb2de216"
      },
      "source": [
        "np.concatenate((a,b), axis=0)"
      ],
      "execution_count": null,
      "outputs": []
    },
    {
      "cell_type": "code",
      "metadata": {
        "id": "VCkTXWcVaoux",
        "colab_type": "code",
        "colab": {},
        "outputId": "5cafad04-4149-4ab1-9446-492b189fe9f7"
      },
      "source": [
        "np.concatenate((a, b), axis=1)"
      ],
      "execution_count": null,
      "outputs": []
    },
    {
      "cell_type": "code",
      "metadata": {
        "id": "itnpf3Kbaouz",
        "colab_type": "code",
        "colab": {},
        "outputId": "e8a1c2c3-e9d3-4260-f38a-2130364dae72"
      },
      "source": [
        "np.vstack((a, b))"
      ],
      "execution_count": null,
      "outputs": []
    },
    {
      "cell_type": "code",
      "metadata": {
        "id": "Hz2LUuo3as_q",
        "colab_type": "code",
        "colab": {
          "base_uri": "https://localhost:8080/",
          "height": 119
        },
        "outputId": "d1fd3ce7-8792-4e3a-e591-7434265b7e34"
      },
      "source": [
        "## Algunas veces es util, obtener una lista\n",
        "## de los elementos que están la matriz\n",
        "## si bien el reshape puede ser usado\n",
        "## np.ravel() puede ser usado para ese objetivo\n",
        "a = np.array([[1,1, 1], [2,2,2], [3,3,3]])\n",
        "print(\"antes del ravel \\n \", a, \"\\n usando ravel \\n \", np.ravel(a))"
      ],
      "execution_count": null,
      "outputs": []
    },
    {
      "cell_type": "markdown",
      "metadata": {
        "id": "BjGvUEFLaou1",
        "colab_type": "text"
      },
      "source": [
        "## Otras funcionalidades de Numpy\n"
      ]
    },
    {
      "cell_type": "code",
      "metadata": {
        "id": "_yRubmWVaou3",
        "colab_type": "code",
        "colab": {
          "base_uri": "https://localhost:8080/",
          "height": 51
        },
        "outputId": "c3525a06-4073-4f4b-9c13-48cc68a79399"
      },
      "source": [
        "## Calculo del promedio\n",
        "a = np.array(range(5))\n",
        "print(\"vector\", a,  \"promedio\", np.mean(a))\n",
        "print(\"vector\", a,  \"promedio con axis = 1, es equivalante al anterior\", np.mean(a, axis = 0))"
      ],
      "execution_count": null,
      "outputs": []
    },
    {
      "cell_type": "code",
      "metadata": {
        "id": "AGODDyieWUWU",
        "colab_type": "code",
        "colab": {
          "base_uri": "https://localhost:8080/",
          "height": 221
        },
        "outputId": "53302a4a-85cf-456d-9ed2-4585ac5edcf2"
      },
      "source": [
        "## el parametro axis es mas util en una matriz\n",
        "a = np.array(range(6)).reshape((3,2))\n",
        "print(\"vector \\n\", a,  \"\\n promedio con axis = 0\\n\", np.mean(a, axis = 0))\n",
        "print(\"vector \\n \", a,  \"\\n promedio con axis = 1\\n \" , np.mean(a, axis = 1))"
      ],
      "execution_count": null,
      "outputs": []
    },
    {
      "cell_type": "code",
      "metadata": {
        "id": "-kCUUdhqaou5",
        "colab_type": "code",
        "colab": {
          "base_uri": "https://localhost:8080/",
          "height": 102
        },
        "outputId": "dafd4348-3848-4239-b30c-121503f7269f"
      },
      "source": [
        "## equivalente  con min, max y sum\n",
        "print (\"extraer la suma: \", a.sum(), \"o de esta manera\", np.sum(a))\n",
        "\n",
        "print (\"igualmente el parametro axis es util, con axis = 0 \\n\", np.sum(a, axis = 0), \n",
        "       \"\\n y axis = 1 \\n \", np.sum(a, axis = 1))"
      ],
      "execution_count": null,
      "outputs": []
    },
    {
      "cell_type": "code",
      "metadata": {
        "id": "omB9eyk8aou6",
        "colab_type": "code",
        "colab": {
          "base_uri": "https://localhost:8080/",
          "height": 51
        },
        "outputId": "499b1bd9-56ce-4015-8272-9034d99c0792"
      },
      "source": [
        "# generar un valores aleatorio\n",
        "x = np.random.choice(2,size = 10)\n",
        "print(x)\n",
        "x = np.random.choice(10,size = 10)\n",
        "print(x)"
      ],
      "execution_count": null,
      "outputs": []
    },
    {
      "cell_type": "code",
      "metadata": {
        "id": "5HJY7IWQYD9T",
        "colab_type": "code",
        "colab": {
          "base_uri": "https://localhost:8080/",
          "height": 119
        },
        "outputId": "c941db63-6066-458f-fc91-d1629ab729d6"
      },
      "source": [
        "## extrar los valores unicos y contar la frequencia de\n",
        "## de estos mismos\n",
        "uniq = np.unique(x)\n",
        "print(\"devuelve los valores unicos\", uniq)\n",
        "uniq = np.unique(x, return_counts=True)\n",
        "print(\"y con esta opciones devuelve una tupla \\n \", uniq, \n",
        "      \"\\nel primer elemento de la tupla son los valores\",\n",
        "      uniq[0], \n",
        "      \"\\n el segundo elemento el contador \\n\",\n",
        "      uniq[1])"
      ],
      "execution_count": null,
      "outputs": []
    },
    {
      "cell_type": "code",
      "metadata": {
        "id": "M9r3aqPlaou8",
        "colab_type": "code",
        "colab": {}
      },
      "source": [
        "## Ejercicio: explorar la funcion de estos \n",
        "## y que parametros pueden recibir\n",
        "## metodos\n",
        "\n",
        "#ones : \n",
        "np.ones()\n",
        "\n",
        "#diag: \n",
        "np.diag()\n",
        "\n",
        "#linalg.inv #Inversa de matriz:\n",
        "np.linalg.inv()\n",
        "\n",
        "#linalg.svd #Descomposición en valores singulares:\n",
        "np.linalg.svd()\n",
        "\n",
        "#logical_and #Elemento a elmento:\n",
        "np.logical_and()\n",
        "\n",
        "#logical_or #Elemento a elelemto:\n",
        "np.logical_or()"
      ],
      "execution_count": null,
      "outputs": []
    },
    {
      "cell_type": "markdown",
      "metadata": {
        "id": "8Wq1Qm_KPcoV",
        "colab_type": "text"
      },
      "source": [
        "Recordar que el uso de numpy es preferido para la implementación, de los algoritmos,  ya que al usar la libreria, los codigos son mas efecientes y se logran los beneficios de la **vectorización**, por ejemplo, al realizar la siguiente operación, es posible realizarla con ciclos **for**. pero al usar la representación matricial y las librerias de numpy tenemos algunos beneficios.\n",
        "\n",
        "$m = a \\cdot b $\n",
        "\n"
      ]
    },
    {
      "cell_type": "code",
      "metadata": {
        "id": "4Q60qyD-yqhQ",
        "colab_type": "code",
        "colab": {
          "base_uri": "https://localhost:8080/",
          "height": 51
        },
        "outputId": "a79cc79d-539e-4561-9245-8b8dae743d91",
        "tags": []
      },
      "source": [
        "print(\"shape de a\", matriz_a_for.shape)\n",
        "print(\"shape de b\", matriz_b_for.shape)"
      ],
      "execution_count": null,
      "outputs": []
    },
    {
      "cell_type": "markdown",
      "metadata": {
        "id": "yRCExba37S3Q",
        "colab_type": "text"
      },
      "source": [
        "Usando esta imagen entendemos, un poco mas la operación\n",
        "\n",
        "![vectorization](https://github.com/jdariasl/ML_2020/raw/labs/Labs/commons/images/vectorization.png)"
      ]
    },
    {
      "cell_type": "code",
      "metadata": {
        "id": "KsET8uyoyQSq",
        "colab_type": "code",
        "colab": {
          "base_uri": "https://localhost:8080/",
          "height": 221
        },
        "outputId": "8456b65a-7fee-4e6d-e969-b5ab15d905ae"
      },
      "source": [
        "# implementacion con numpy\n",
        "import time\n",
        "results = []\n",
        "for n in range(10):\n",
        "  s = time.time()\n",
        "  m = np.dot(matriz_a_for, matriz_b_for.T)\n",
        "  results.append(time.time() - s)\n",
        "print(\"time en ms\", np.mean(results)*1000, \"\\n results \\n \",m)"
      ],
      "execution_count": null,
      "outputs": []
    },
    {
      "cell_type": "code",
      "metadata": {
        "id": "cPiXhlJBPZ5I",
        "colab_type": "code",
        "colab": {
          "base_uri": "https://localhost:8080/",
          "height": 221
        },
        "outputId": "dc3a242a-01d1-4b13-c6da-72950df4794e"
      },
      "source": [
        "## Implementacion la operacion mediante ciclos for\n",
        "m = np.zeros(shape = (10,1))\n",
        "results = []\n",
        "for n in range(10):\n",
        "  s = time.time()\n",
        "  for i in range(m.shape[0]):\n",
        "      aa = np.sum(matriz_a_for[i, :]*matriz_b_for)\n",
        "      m[i,0] = aa\n",
        "  results.append(time.time() - s)\n",
        "print(\"time en ms\", np.mean(results)*1000, \"\\n results \\n \",m)"
      ],
      "execution_count": null,
      "outputs": []
    },
    {
      "cell_type": "markdown",
      "metadata": {
        "id": "-Ctu5uHGARX5",
        "colab_type": "text"
      },
      "source": [
        "Con ciclos **for** tenemos una implementación que es casi 200 %  más lenta que la implementación \"vectorizada\"."
      ]
    },
    {
      "cell_type": "markdown",
      "metadata": {
        "id": "_xJ9i4-uaou9",
        "colab_type": "text"
      },
      "source": [
        "# Manejo de estructuras de datos en Pandas"
      ]
    },
    {
      "cell_type": "code",
      "metadata": {
        "id": "G7SpPHXnEp9_",
        "colab_type": "code",
        "colab": {}
      },
      "source": [
        "# en la configuracion inical se hace import pandas as pd\n",
        "# lectura de un csv\n",
        "datos = pd.read_csv(\"bank.csv\")"
      ],
      "execution_count": null,
      "outputs": []
    },
    {
      "cell_type": "code",
      "execution_count": null,
      "metadata": {},
      "outputs": [],
      "source": [
        "# esto crea un pandas dataframe\n",
        "# Pandas es una libreria muy popular para el manejo de datos\n",
        "# y se integra con los notebooks de manera muy sencilla\n",
        "df.head()"
      ]
    },
    {
      "cell_type": "code",
      "execution_count": null,
      "metadata": {},
      "outputs": [],
      "source": [
        "# sample para explorar los datos de manera rapida\n",
        "df.sample()"
      ]
    },
    {
      "cell_type": "code",
      "execution_count": null,
      "metadata": {},
      "outputs": [],
      "source": [
        "# y se puede interpretar como una matriz de numpy:\n",
        "df.shape()"
      ]
    },
    {
      "cell_type": "code",
      "execution_count": null,
      "metadata": {},
      "outputs": [],
      "source": [
        "# sin embargo esta soporta mas tipos de datos, pero se pueden seguir haciendo operaciones\n",
        "# similares con las columnas numericas\n",
        "df['a'] + df['b']"
      ]
    },
    {
      "cell_type": "markdown",
      "metadata": {},
      "source": [
        "Y es usada para mostrar tablas. Nosotras la usaremos para ver los resultados de nuestros experimentos"
      ]
    },
    {
      "cell_type": "code",
      "execution_count": null,
      "metadata": {},
      "outputs": [],
      "source": [
        "# creacion de una tabla\n",
        "# con resultados\n"
      ]
    },
    {
      "cell_type": "markdown",
      "metadata": {
        "id": "Vzjudwzdaou-",
        "colab_type": "text"
      },
      "source": [
        "# Manejo de gráficas en matplotlib y pandas"
      ]
    },
    {
      "cell_type": "markdown",
      "metadata": {
        "id": "IXRGqjqFaou-",
        "colab_type": "text"
      },
      "source": [
        "Ahora utilizaremos la librería matplotlib para hacer algunos ejemplos de gráficas básicas:\n",
        "\n",
        "$$ y = x $$\n",
        "\n",
        "$$ y = x^2 $$\n",
        "\n",
        "$$ y = x^3 $$\n",
        "\n",
        "Observemos que la variable x solo se carga en la primera celda de código. En adelante se puede usar sin necesidad de ser cargada de nuevo. En la gráfica de $y=x^3$ incluimos el título de la gráfica y los label para los ejes de la misma."
      ]
    },
    {
      "cell_type": "code",
      "metadata": {
        "id": "9MDoqmlQaou-",
        "colab_type": "code",
        "colab": {}
      },
      "source": [
        "## Importar la librería de matplotlib\n",
        "import matplotlib.pyplot as plt"
      ],
      "execution_count": null,
      "outputs": []
    },
    {
      "cell_type": "code",
      "metadata": {
        "id": "oma5k4wHaovA",
        "colab_type": "code",
        "colab": {},
        "outputId": "cc485d2a-924b-43f7-a0dc-296efbbc4501"
      },
      "source": [
        "#x = np.array([-2,-1,0,1,2])\n",
        "x = np.linspace(-10,10,100)\n",
        "\n",
        "#Función y = ax + b\n",
        "y = 0.5*x\n",
        "plt.plot(x,y)\n",
        "plt.ylim(0,10)\n",
        "plt.xlim(0,10)\n",
        "plt.ylabel('y = x')\n",
        "plt.xlabel('x')\n",
        "plt.title(u\"Gráfica de una función lineal\\n\")\n",
        "plt.show()"
      ],
      "execution_count": null,
      "outputs": []
    },
    {
      "cell_type": "code",
      "metadata": {
        "id": "nLjSnPwnaovB",
        "colab_type": "code",
        "colab": {},
        "outputId": "238ae520-5581-45ee-fd2f-9cd0d8164976"
      },
      "source": [
        "#y = x^2\n",
        "y = x**2\n",
        "plt.plot(x,y, c='green')\n",
        "#plt.xlim(-150,150)\n",
        "plt.show()"
      ],
      "execution_count": null,
      "outputs": []
    },
    {
      "cell_type": "code",
      "metadata": {
        "id": "rqvS4mSeaovD",
        "colab_type": "code",
        "colab": {},
        "outputId": "ee71c06c-27ee-440d-9f13-af6b01f295e2"
      },
      "source": [
        "y = x**3\n",
        "plt.plot(y)\n",
        "plt.ylabel(r'$y = x^3$')\n",
        "plt.xlabel(u'x - 100 números entre -10 y 10')\n",
        "plt.title(u'Ejemplos de introducción para el curso de Simulación de Sistemas - UdeA\\n')\n",
        "plt.show()"
      ],
      "execution_count": null,
      "outputs": []
    },
    {
      "cell_type": "markdown",
      "metadata": {
        "id": "DFx5FylKaovF",
        "colab_type": "text"
      },
      "source": [
        "Generando gráfica punteada"
      ]
    },
    {
      "cell_type": "code",
      "metadata": {
        "id": "nJN9eH-qaovI",
        "colab_type": "code",
        "colab": {},
        "outputId": "8b0b2c69-ea58-4e01-97a5-8b2de11b3231"
      },
      "source": [
        "y = np.sin(x)\n",
        "plt.plot(y, 'b-')\n",
        "plt.ylabel('y = seno(x)')\n",
        "plt.xlabel(u'x - 100 números entre -10 y 10')\n",
        "plt.title(r'$s(t) = \\mathcal{A}\\sin(2 \\omega t)$', fontsize=16, color='r')\n",
        "plt.show()"
      ],
      "execution_count": null,
      "outputs": []
    },
    {
      "cell_type": "markdown",
      "metadata": {
        "id": "Cw4nXoVpaovK",
        "colab_type": "text"
      },
      "source": [
        "Dos gráficas en el mismo plano"
      ]
    },
    {
      "cell_type": "code",
      "metadata": {
        "id": "dsy3AsS6aovL",
        "colab_type": "code",
        "colab": {},
        "outputId": "8ee0a6b8-cb39-4a62-e9a3-a3efbd360a00"
      },
      "source": [
        "y2 = x\n",
        "y = np.sin(x)\n",
        "y1 = np.cos(x)\n",
        "plt.plot(y, 'r--', y1, 'b-')\n",
        "plt.ylabel('y = seno(x)')\n",
        "plt.xlabel(u'x - 100 números entre -10 y 10')\n",
        "plt.title(u'Ejemplos de introducción para el curso de Simulación de Sistemas - UdeA\\n')\n",
        "plt.show()"
      ],
      "execution_count": null,
      "outputs": []
    },
    {
      "cell_type": "markdown",
      "metadata": {
        "id": "A3jJCzcvaovN",
        "colab_type": "text"
      },
      "source": [
        "Agregando el legend al gráfico"
      ]
    },
    {
      "cell_type": "code",
      "metadata": {
        "id": "384Lo8QdaovN",
        "colab_type": "code",
        "colab": {},
        "outputId": "951d9b32-fc85-4e00-a80a-5ce617ac886d"
      },
      "source": [
        "y = np.sin(x)\n",
        "y1 = np.cos(x)\n",
        "plt.plot(y, 'r-', label='Seno')\n",
        "plt.plot(y1, 'b-', label='Coseno')\n",
        "plt.ylabel('y = seno(x)')\n",
        "plt.xlabel(u'x - 100 números entre -10 y 10')\n",
        "plt.title(u'Ejemplos de introducción para el curso de Simulación de Sistemas - UdeA\\n')\n",
        "plt.legend()\n",
        "plt.show()"
      ],
      "execution_count": null,
      "outputs": []
    },
    {
      "cell_type": "markdown",
      "metadata": {
        "id": "kOrLeiswaovP",
        "colab_type": "text"
      },
      "source": [
        "Diferentes gráficos"
      ]
    },
    {
      "cell_type": "code",
      "metadata": {
        "id": "jW9ecXO7aovP",
        "colab_type": "code",
        "colab": {},
        "outputId": "9832e13f-401c-4a90-c2e4-f681e338f0a4"
      },
      "source": [
        "values = np.array([1, 10, 100])\n",
        "ind = np.arange(3)\n",
        "plt.figure(1, figsize=(9, 3))\n",
        "\n",
        "plt.subplot(131)\n",
        "plt.bar(ind+1, values*np.random.rand(3))\n",
        "\n",
        "plt.subplot(132)\n",
        "plt.bar(ind+1, np.flipud(values))\n",
        "\n",
        "plt.subplot(133)\n",
        "plt.bar(ind+1, values)\n",
        "\n",
        "plt.suptitle(u'Ejemplos - Simulación de Sistemas y Lab.')\n",
        "plt.show()"
      ],
      "execution_count": null,
      "outputs": []
    },
    {
      "cell_type": "markdown",
      "metadata": {
        "id": "L0H6Yy2TaovR",
        "colab_type": "text"
      },
      "source": [
        "Gráficos para problemas de clasificación en Machine learning. Scatter plots"
      ]
    },
    {
      "cell_type": "code",
      "metadata": {
        "id": "Bkq5vJs7aovR",
        "colab_type": "code",
        "colab": {},
        "outputId": "5daa70bd-f951-4d08-9ab7-17e4742996c8"
      },
      "source": [
        "#Creamos los datos artificiales\n",
        "\n",
        "mu1, sigma1 = 1.5, 0.1\n",
        "mu2, sigma2 = 1, 0.1\n",
        "N = 100\n",
        "\n",
        "x1 = mu1 + sigma1 * np.random.randn(N)\n",
        "x1line = np.linspace(0,2,N)\n",
        "x2 = mu2 + sigma2 * np.random.randn(N)\n",
        "x2line = np.linspace(3,5,N)\n",
        "\n",
        "#Decision boundary\n",
        "b = -2\n",
        "m = 3.5\n",
        "v = np.linspace(0,100,100)\n",
        "t = v*m + b\n",
        "\n",
        "plt.scatter(x1, x1line, c='b')\n",
        "plt.scatter(x2, x2line, c='r')\n",
        "plt.plot(v, t, 'c-')\n",
        "plt.ylim(-0.5, 6, 1)\n",
        "plt.xlim(0.5, 1.8, 0.2)\n",
        "plt.show()\n"
      ],
      "execution_count": null,
      "outputs": []
    },
    {
      "cell_type": "markdown",
      "metadata": {
        "id": "bvLqagS0H3p7",
        "colab_type": "text"
      },
      "source": [
        "Distribución de probabilidad normal univariada\n",
        "\n",
        "$P(x; \\mu, \\sigma) = \\frac{1}{\\sqrt{2\\pi}\\sigma }exp-\\frac{1}{2}\\frac{(x-\\mu)^2}{\\sigma^2}$\n",
        "\n",
        "Recordar que lo anterior conforma una familia paramétrica con todos los posibles valores de los parámetros $\\mu$ y $\\sigma$.\n",
        "\n",
        "Veamos la gráfica de la distribución de la función de densidad de probabilidad normal:\n",
        "\n"
      ]
    },
    {
      "cell_type": "code",
      "metadata": {
        "id": "j5TBYK1KH2oY",
        "colab_type": "code",
        "colab": {}
      },
      "source": [
        "mu, sigma = 0, 2\n",
        "\n",
        "#Generamos un conjunto de valores x\n",
        "\n",
        "x = np.linspace(-3,3,100)\n",
        "#los llevamos a la función de densidad de probabilidad normal\n",
        "p = ( 1/(np.sqrt(2*np.pi)*sigma) ) * np.exp( (-1/2) * ( ((x - mu) ** 2) / (sigma ** 2) ) )\n",
        "\n",
        "plt.plot(x, p, 'r--')\n",
        "plt.show()"
      ],
      "execution_count": null,
      "outputs": []
    },
    {
      "cell_type": "markdown",
      "metadata": {
        "id": "7z0ahjx5ISj_",
        "colab_type": "text"
      },
      "source": [
        "Tambien podemos visualizar histogramas"
      ]
    },
    {
      "cell_type": "code",
      "metadata": {
        "id": "jC7A7HPkIblB",
        "colab_type": "code",
        "colab": {}
      },
      "source": [
        "p = np.random.randn(1000)\n",
        "plt.hist(p, color = 'b')\n",
        "plt.show()"
      ],
      "execution_count": null,
      "outputs": []
    },
    {
      "cell_type": "markdown",
      "metadata": {
        "id": "NCCy9sdaIlFz",
        "colab_type": "text"
      },
      "source": [
        "De igual manera, si tenemos un pandas dataframe, se puede simplificar nuestros codigos, y podemos hacer plots con menos lineas de codigo.\n",
        "\n"
      ]
    },
    {
      "cell_type": "code",
      "execution_count": null,
      "metadata": {},
      "outputs": [],
      "source": [
        "df.plot()"
      ]
    },
    {
      "cell_type": "code",
      "execution_count": null,
      "metadata": {},
      "outputs": [],
      "source": [
        "df.bar()"
      ]
    },
    {
      "cell_type": "markdown",
      "metadata": {},
      "source": [
        "Ejercicio!\n",
        "[Explora un poco mas la libreria](https://pandas.pydata.org/)"
      ]
    },
    {
      "cell_type": "markdown",
      "metadata": {
        "id": "-tjM4GmKaovS",
        "colab_type": "text"
      },
      "source": [
        "# Estructura de los laboratorios\n",
        "\n",
        "\n",
        "1. Contextualización del problema y entedimiento de los datos\n",
        "\n",
        "Se busca que tenga un contexto del problema que se está abordando, de modo que les ayude a resolver los ejercicios. Es de suma importancia entender de fondo si es un problema de clasificación o regresión, y cuanto a los datos con los que trabajremos, el número de clases, muestras y carácteristicas, esto le ayudará para entender los resultados una vez complete los algoritmos y para hacer las gráficas, entre otros.\n",
        "\n",
        "En esta sección encontraran la primeras preguntas abiertas, donde se recordara el link hacia el formulario. Por ejemplo, [Este sirve formulario sirve de ejemplo para esta sesión](https://forms.gle/w5wMApPVTCaVRkpw5)\n",
        "\n"
      ]
    },
    {
      "cell_type": "markdown",
      "metadata": {
        "id": "jfup4nP7tBZZ",
        "colab_type": "text"
      },
      "source": [
        "\n",
        "2. Completar el código\n",
        "\n",
        "Hacer la implemetación del algoritmo del modelo. Son modelos que se explicaron en la teoría vista en clase, una vez comprenda su funcionamiento se completa ya sea el algoritmo o la implementación correcta de las librerías usando los recursos que ya tiene el laboratorio.\n",
        "\n",
        "\n",
        "3. Entrenamiento\n",
        "\n",
        "En este punto debe hacer uso de las funciones escritas en el punto anterior para realizar el proceso de modelamiento y simulación de los datos de cargados en el punto 1\n",
        "\n",
        "4. Resultados\n",
        "\n",
        "Completar la tabla de resultados y derivar conclusiones de estos mismos.\n",
        "\n",
        "En cada uno de esta sesiones, vas encontrar ejercicios de codigo similares al siguiente:\n"
      ]
    },
    {
      "cell_type": "code",
      "execution_count": 2,
      "metadata": {},
      "outputs": [],
      "source": [
        "#La celda comenzara con este aviso:\n",
        "## Ejercicio de Codigo ##\n",
        "# Se te requerira completar una función cuyas especificaciones\n",
        "# y desables se explicán, en la documentacion de la función\n",
        "# puedes agregar celdas de codigo para y verificando y testeando lo que necesites\n",
        "# cuando estes seguro comienza a escribir tu codigo\n",
        "# dentro de la función\n",
        "# NO MODIFIQUES el nombre de la funcion\n",
        "def mult_matrices (matriz_a, matriz_b):\n",
        "    \"\"\"Esta funcion debera devolver la multiplicacion de matrices entre las dos matrices entrantes\n",
        "    matriz_a, matriz_b: matrices en numpy\n",
        "    retorna: debe retornar el resultado de multiplicar las dos entradas\n",
        "    \"\"\"\n",
        "\n",
        "    # Aqui comienza a completar tu codigo\n",
        "    #res = np.dot(matriz_a, matriz_b, axis = 1)\n",
        "    #res = matriz_a + matriz_b\n",
        "    res = np.dot(matriz_a, matriz_b)\n",
        "    # debes retornar siempre lo requerido\n",
        "    return(res)\n"
      ]
    },
    {
      "cell_type": "code",
      "execution_count": 3,
      "metadata": {
        "tags": []
      },
      "outputs": [
        {
          "output_type": "stream",
          "name": "stdout",
          "text": "TEST EXITOSO!\n"
        }
      ],
      "source": [
        "# seguido de la celda siempre encontraras el codigo para testear si tu implementacion fue correcta\n",
        "## Es muy importante que esta celda de codigo NO la modifiques\n",
        "GRADER_INTRO_LAB.run_test(\"ejercicio1\", mult_matrices)"
      ]
    },
    {
      "cell_type": "code",
      "metadata": {
        "id": "t7ORCdAhaovW",
        "colab_type": "code",
        "colab": {
          "referenced_widgets": [
            "29afe58c2120493389f315a6585e117a"
          ]
        },
        "outputId": "9368e069-fd5a-4420-d9d9-9f78140244b5"
      },
      "source": [
        "## tambien vas a encontrar ejercicios similares a este\n",
        "# donde tu funcion debe ejecutar el codigo del modelo\n",
        "## y retornar el modelo entrenado\n",
        "## Ejercicio de Codigo ##\n",
        "def train_model(Xtrain, ytrain, param):\n",
        "    \"\"\" esta función debe entrenar un modelo de regression pero solo inicializando\n",
        "        aleatorimente\n",
        "    train_data: a matriz numpy con las muestras de entrenamiento \n",
        "    train_labels: a matriz numpy con labels de entrenamiento\n",
        "    param: este parametro es un dummy no debes hacer nada!\n",
        "    retorna: la matriz W inicializada, y el error de entrenamiento\n",
        "    \"\"\"\n",
        "    W = np.random.rand((Xtrain.shape[1])) # np.ones((Xtrain.shape[1])) # np.ones((Xtrain.shape[1]))\n",
        "    error = np.mean(np.dot(Xtrain, W) - ytrain)\n",
        "    return (W,error)\n",
        "    #return (None)\n",
        "    \n",
        "    "
      ],
      "execution_count": 4,
      "outputs": []
    },
    {
      "cell_type": "code",
      "execution_count": 5,
      "metadata": {
        "tags": []
      },
      "outputs": [
        {
          "output_type": "stream",
          "name": "stdout",
          "text": "Todos los test pasaron!\nTEST EXITOSO!\n"
        }
      ],
      "source": [
        "## la funcion que prueba tu implementacion\n",
        "GRADER_INTRO_LAB.run_test(\"ejercicio2\", train_model)\n"
      ]
    },
    {
      "cell_type": "code",
      "execution_count": 12,
      "metadata": {},
      "outputs": [],
      "source": [
        "# y con las funciones debes usarla para completar los experimentos y llenar el dataframe\n",
        "# debes variar el parametro de 0 a 5\n",
        "## Ejercicio de Codigo ##\n",
        "def experimentar (Xtest, ytest, params):\n",
        "    \"\"\"Esta función debe realizar los experimentos, de manera programatica.}\n",
        "       Debe devolver un datarame con los errrores por cada parametro.\n",
        "    Xtest: matriz numpy con los valores del conjunto para test\n",
        "    ytest: los valores de etiqueta reales\n",
        "    retorna: un dataframe con dos columnas: el valor del parametro y el valor del error\n",
        "    \"\"\"\n",
        "    #params = range(5)\n",
        "    resultados = pd.DataFrame()\n",
        "    for i, param in enumerate (params):\n",
        "        W, err = train_model(Xtest, ytest, param)\n",
        "        resultados.loc[i,'param'] = param\n",
        "        resultados.loc[i,'err'] = err\n",
        "    \n",
        "    return (resultados)"
      ]
    },
    {
      "cell_type": "code",
      "execution_count": 13,
      "metadata": {
        "tags": []
      },
      "outputs": [
        {
          "output_type": "stream",
          "name": "stdout",
          "text": "TEST EXITOSO!\n"
        }
      ],
      "source": [
        "## la funcion que prueba tu implementacion\n",
        "GRADER_INTRO_LAB.run_test(\"ejercicio3\", experimentar)"
      ]
    },
    {
      "cell_type": "markdown",
      "metadata": {},
      "source": [
        "Algunas veces entre los ejercicio de código, puedes encontrar preguntas abiertas. Estas la mayoria de veces van estar relacionadas con los resultados de los ejercicio de código, temas vistos en las clases teóricas o pequeñas investigaciones."
      ]
    },
    {
      "cell_type": "code",
      "execution_count": 14,
      "metadata": {},
      "outputs": [],
      "source": [
        "#@title Pregunta Abierta\n",
        "#@markdown  ¿es necesario siempre una inicialización aleatoria de las variables? \n",
        "respuesta1_1 = \"\" #@param {type:\"string\"}\n"
      ]
    },
    {
      "cell_type": "code",
      "execution_count": 3,
      "metadata": {
        "tags": []
      },
      "outputs": [
        {
          "output_type": "stream",
          "name": "stdout",
          "text": "los tests estan incompletos! verifica el notebook\n"
        }
      ],
      "source": [
        "# en las ultimas  partes del laboratorio vas encontrar esta linea de codigo\n",
        "# sirve para verificar que todo esta completo\n",
        "GRADER_INTRO_LAB.check_tests()"
      ]
    },
    {
      "cell_type": "markdown",
      "metadata": {
        "id": "cBU-DUHXsj5m",
        "colab_type": "text"
      },
      "source": [
        "Finalmente al final de cada notebook, encontrarán un formulario que debe ser diligenciado con la información correspondiente. Si el laboraotrio fue desarrollado por una sola persona, deben dejarlo vacio el campo \"integrante_2\" y \"codigo_integrante_2\""
      ]
    },
    {
      "cell_type": "code",
      "metadata": {
        "id": "cOTrL4flr-P8",
        "colab_type": "code",
        "colab": {},
        "cellView": "both"
      },
      "source": [
        "#@title Integrantes\n",
        "integrante_1 = '' #@param {type:\"string\"}\n",
        "codigo_integrante_1 ='' #@param {type:\"string\"}\n",
        "integrante_2 = '' #@param {type:\"string\"}\n",
        "codigo_integrante_2 = ''  #@param {type:\"string\"}"
      ],
      "execution_count": null,
      "outputs": []
    },
    {
      "cell_type": "markdown",
      "metadata": {},
      "source": [
        "**¿como se considera un laboratorio entregado?**\n",
        "\n",
        "1. Debes descargar el archivo .ipynb\n",
        "2. Entrar al formulario, subir el archivo y enviar el formulario\n",
        "3. Se tomara en cuenta el ultimo envio del formualario. (esto tambien aplica si envian desde diferentes usuarios)\n",
        "4. El formulario sera cerrado despues del limite establecido."
      ]
    },
    {
      "cell_type": "markdown",
      "metadata": {
        "id": "hzWMRPpqaovc",
        "colab_type": "text"
      },
      "source": [
        "# Recomendaciones Finales para la entrega de los laboratorios\n",
        "\n",
        "1. Los espacios para laboratorio son para **ustedes**, traten de aprovecharlo al máximo.\n",
        "\n",
        "2. Es invalido enviar los laboratorios vía correo electronico y otro medio que no hay sido especificado. Se debe seguir el proceso descrito en la anterior sección.\n",
        "\n",
        "3. **Muy buena practica**:  cuando se confirma que todos los tests estan correctos, reinicar el kernel, y dar en ejecutar todas las lineas de codigo. De esta manera te aseguras que todo esta correcto para el envio del laboratorio.\n",
        "\n",
        "3. Tengan en cuenta, que si bien hay tests automáticos, los notebooks serán revisados y ejecutados de **manera manual**. Hagan los ejercicios a **conciencia y con toda la dispocisión para aprender y generar habilidades**.\n",
        "\n",
        "4. Es muy importante revisar las guias de laboratorio con anterioridad. Es muy factible que si el primer vistazo que le hacen a la guia es durante la sesión conjunta, el tiempo no sera un aliado. \n",
        "\n",
        "5. En cada sección se especificara la fecha/hora limite de entrega. Debemos respetar las  reglas definidas para el grupo. **De antemano se entienden que todos podemos tener condiciones/situaciones diferentes, sin embargo no habrá excepciones**.\n"
      ]
    },
    {
      "cell_type": "markdown",
      "metadata": {},
      "source": [
        "---------"
      ]
    },
    {
      "cell_type": "code",
      "execution_count": null,
      "metadata": {},
      "outputs": [],
      "source": [
        "# esta linea de codigo va fallar, es de uso exclusivo del los profesores\n",
        "GRADER_INTRO_LAB.grade()"
      ]
    }
  ]
}
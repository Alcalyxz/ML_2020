{
  "nbformat": 4,
  "nbformat_minor": 0,
  "metadata": {
    "kernelspec": {
      "display_name": "Python 3.6.9 64-bit",
      "language": "python",
      "name": "python36964bite6e4b44aef15498b8e6b096ea0e41af2"
    },
    "language_info": {
      "codemirror_mode": {
        "name": "ipython",
        "version": 3
      },
      "file_extension": ".py",
      "mimetype": "text/x-python",
      "name": "python",
      "nbconvert_exporter": "python",
      "pygments_lexer": "ipython3",
      "version": "3.6.9-final"
    },
    "colab": {
      "name": "lab1_parte1.ipynb",
      "provenance": [],
      "toc_visible": true
    }
  },
  "cells": [
    {
      "cell_type": "markdown",
      "metadata": {
        "id": "zE8l20T-t-DR",
        "colab_type": "text"
      },
      "source": [
        "<a href=\"https://colab.research.google.com/github/jdariasl/ML_2020/blob/master/Labs/lab1/lab1_parte1.ipynb\" target=\"_parent\"><img src=\"https://colab.research.google.com/assets/colab-badge.svg\" alt=\"Open In Colab\"/></a>\n",
        "\n",
        "**Recuerda que una vez abierto, Da clic en \"Copiar en Drive\", de lo contrario no podras alamancenar tu progreso**\n",
        "\n",
        "Nota: no olvide ir ejecutando las celdas de código de arriba hacia abajo para que no tenga errores de importación de librerías o por falta de definición de variables.\n"
      ]
    },
    {
      "cell_type": "code",
      "metadata": {
        "tags": [],
        "id": "19BFks1nt-DR",
        "colab_type": "code",
        "colab": {
          "base_uri": "https://localhost:8080/",
          "height": 289
        },
        "outputId": "f9f6a89f-19ec-42f8-9c80-ed5d70e890d5"
      },
      "source": [
        "#configuración del laboratorio\n",
        "# Ejecuta esta celda!\n",
        "%load_ext autoreload\n",
        "%autoreload 2\n",
        "!wget https://raw.githubusercontent.com/jdariasl/ML_2020/master/Labs/commons/utils/general.py -O general.py\n",
        "from general import configure_lab1_p1\n",
        "configure_lab1_p1()\n",
        "from lab1 import *\n",
        "GRADER_LAB_1_P1, db, x, y = part_1()\n"
      ],
      "execution_count": 1,
      "outputs": [
        {
          "output_type": "stream",
          "text": [
            "--2020-09-01 20:51:37--  https://raw.githubusercontent.com/jdariasl/ML_2020/master/Labs/commons/utils/general.py\n",
            "Resolving raw.githubusercontent.com (raw.githubusercontent.com)... 151.101.0.133, 151.101.64.133, 151.101.128.133, ...\n",
            "Connecting to raw.githubusercontent.com (raw.githubusercontent.com)|151.101.0.133|:443... connected.\n",
            "HTTP request sent, awaiting response... 200 OK\n",
            "Length: 9300 (9.1K) [text/plain]\n",
            "Saving to: ‘general.py’\n",
            "\n",
            "general.py          100%[===================>]   9.08K  --.-KB/s    in 0s      \n",
            "\n",
            "2020-09-01 20:51:37 (77.2 MB/s) - ‘general.py’ saved [9300/9300]\n",
            "\n",
            "lab configuration started\n",
            "installing libraries\n",
            "downloading files\n",
            "lab configured\n",
            "cargando librerias y variables al ambiente\n"
          ],
          "name": "stdout"
        }
      ]
    },
    {
      "cell_type": "markdown",
      "metadata": {
        "id": "1DGtR6cMt-DU",
        "colab_type": "text"
      },
      "source": [
        "# Laboratorio 1 - Parte 1\n",
        "\n",
        "**Regresión polinomial múltiple**\n"
      ]
    },
    {
      "cell_type": "markdown",
      "metadata": {
        "id": "0MJDEwjht-DV",
        "colab_type": "text"
      },
      "source": [
        "## Ejercicio 1: Contextualización del problema\n",
        "\n",
        "El problema de regresión que abordaremos consiste en predecir el valor de la humedad absoluta en el aire, a partir de varias variables sensadas en el aire (Para más información sobre la base de datos y la contextualización del problema, consulte: http://archive.ics.uci.edu/ml/datasets/air+quality)."
      ]
    },
    {
      "cell_type": "code",
      "metadata": {
        "tags": [],
        "id": "HeVKE-aot-DV",
        "colab_type": "code",
        "colab": {
          "base_uri": "https://localhost:8080/",
          "height": 153
        },
        "outputId": "be399113-4bd1-4f4a-c85b-cbfe2711894b"
      },
      "source": [
        "# tienes ya cargadas las siguientes variables:\n",
        "print(\"conjunto de datos\", x)\n",
        "print(\"variable a predecir\", y)\n"
      ],
      "execution_count": 2,
      "outputs": [
        {
          "output_type": "stream",
          "text": [
            "conjunto de datos [[   2.6 1360.   150.  ... 1268.    13.6   48.9]\n",
            " [   2.  1292.   112.  ...  972.    13.3   47.7]\n",
            " [   2.2 1402.    88.  ... 1074.    11.9   54. ]\n",
            " ...\n",
            " [   2.4 1142.  -200.  ... 1092.    26.9   18.3]\n",
            " [   2.1 1003.  -200.  ...  770.    28.3   13.5]\n",
            " [   2.2 1071.  -200.  ...  816.    28.5   13.1]]\n",
            "variable a predecir [0.7578 0.7255 0.7502 ... 0.6406 0.5139 0.5028]\n"
          ],
          "name": "stdout"
        }
      ]
    },
    {
      "cell_type": "code",
      "metadata": {
        "tags": [],
        "id": "-sSUDTQOt-DZ",
        "colab_type": "code",
        "colab": {}
      },
      "source": [
        "#Ejercicio de Codigo\n",
        "def num_muestras_carac(X):\n",
        "    \"\"\"Esta funcion es encargada retornar el numero de muestras\n",
        "        y caracteristicas del conjunto de datos X\n",
        "\n",
        "        X: matriz numpy\n",
        "        retorna:\n",
        "            numero de muestras (int/float)\n",
        "            numero de caracteristicas (int/float)\n",
        "    \"\"\"\n",
        "    \n",
        "    return (None)"
      ],
      "execution_count": null,
      "outputs": []
    },
    {
      "cell_type": "code",
      "metadata": {
        "tags": [],
        "id": "E3p3FE_Jt-Da",
        "colab_type": "code",
        "colab": {}
      },
      "source": [
        "## la funcion que prueba tu implementacion\n",
        "GRADER_LAB_1_P1.run_test(\"ejercicio1\", num_muestras_carac)"
      ],
      "execution_count": null,
      "outputs": []
    },
    {
      "cell_type": "code",
      "metadata": {
        "id": "WjDP5hKtt-Dc",
        "colab_type": "code",
        "cellView": "form",
        "colab": {}
      },
      "source": [
        "#@title Pregunta Abierta\n",
        "#@markdown  ¿que tipo de problema vamos a resolver? justifique su respuesta \n",
        "respuesta_1 = \"\" #@param {type:\"string\"}"
      ],
      "execution_count": null,
      "outputs": []
    },
    {
      "cell_type": "markdown",
      "metadata": {
        "id": "IsCCj-RFt-De",
        "colab_type": "text"
      },
      "source": [
        "## Ejercicio 2\n",
        "\n",
        "Analice los siguientes métodos de la teoría  de modelos de  *regresión polinomial múltiple*:\n",
        "\n",
        "1. error cuadrático medio (<font color='blue'>ECM</font>), \n",
        "2. modelo de regresión múltiple (<font color='blue'>regression</font>)\n",
        "3. potencia del polinomio (<font color='blue'>potenciaPolinomio</font>)\n",
        "4. gradiente descendente.\n",
        "\n",
        "Para los tres primeros métodos, su implementación en código es dentro del notebook. Por ejemplo la siguiente celda contiene la implementación del ECM y de la regression. Comprenda su funcionamiento y ejecute la celda para definir las funciones y poder usarlas.\n"
      ]
    },
    {
      "cell_type": "code",
      "metadata": {
        "id": "uautFfy5t-De",
        "colab_type": "code",
        "colab": {}
      },
      "source": [
        "def ECM(Y_est,Y):\n",
        "    \"\"\"funcion para calcular el error cuadratico medio\n",
        "    Y_est: debe contener los valores predichos por el modelo evaluar\n",
        "    Y: debe contener los valores reales\n",
        "    retorna: error cuadratico medio\n",
        "    \"\"\"\n",
        "    N = np.size(Y)\n",
        "    ecm = np.sum((Y_est.reshape(N,1) - Y.reshape(N,1))**2)/(2*N)\n",
        "    return ecm \n",
        "\n",
        "def regression(X, W):\n",
        "    \"\"\"calcula la regresión multiple\n",
        "    X: los valores que corresponden a las caractersiticas\n",
        "    W: son los pesos usadados para realizar la regresión\n",
        "    retorna: valor estimado\n",
        "    \"\"\"    \n",
        "    Yest = np.dot(X,W)    #con np.dot se realiza el producto matricial. Aquí X es dim [Nxd] y W es dim [dx1]\n",
        "    return Yest           #Esta variable contiene la salida de f(X,W)\n"
      ],
      "execution_count": null,
      "outputs": []
    },
    {
      "cell_type": "markdown",
      "metadata": {
        "id": "oWEgqHRyt-Dg",
        "colab_type": "text"
      },
      "source": [
        "De igual manera, debemos extender nuestro conjunto de datos. Comprende que hace  la siguiente celda de código y ejecutala. **Muy importante ejecutar SOLA UNA vez.**"
      ]
    },
    {
      "cell_type": "code",
      "metadata": {
        "id": "YzAgbcZyt-Dh",
        "colab_type": "code",
        "colab": {}
      },
      "source": [
        "#Aca llamamos la funcion creada anteriormente\n",
        "# par obtener el numero muestras y caractersiticas\n",
        "muestras,caracterisitcas = num_muestras_carac(x)\n",
        "#Extendemos la matriz de X para el parámetro independiente\n",
        "unos = np.array([np.ones(muestras)])\n",
        "x = np.concatenate((unos.T, x), axis=1)\n",
        "x = x.reshape(muestras, caracterisitcas+1)\n",
        "y = y.reshape(np.size(y), 1)"
      ],
      "execution_count": null,
      "outputs": []
    },
    {
      "cell_type": "code",
      "metadata": {
        "id": "xz6ZrNhWt-Di",
        "colab_type": "code",
        "cellView": "form",
        "colab": {}
      },
      "source": [
        "#@title Pregunta Abierta\n",
        "#@markdown  ¿por es necesario realizar la anterior extensión a nuestro conjunto de datos?\n",
        "respuesta_2 = \"\" #@param {type:\"string\"}"
      ],
      "execution_count": null,
      "outputs": []
    },
    {
      "cell_type": "markdown",
      "metadata": {
        "id": "792kf6-pt-Dk",
        "colab_type": "text"
      },
      "source": [
        "Ahora vamos a completar el código de la regla de actualización de los parámetros del algoritmo de <font color='blue'>gradiente_descedente</font>: \n",
        "\n",
        "$$w_j(iter) = w_j(iter-1) - \\eta \\frac{\\partial E(w)}{\\partial w_j}$$ \n",
        "\n",
        "recordar que \n",
        "\n",
        "$$ \\frac{\\partial E(w)}{\\partial w_j} = \\frac{\\partial E({\\bf{w}})}{\\partial w_j} = \\frac{1}{N}\\sum_{i=1}^{N}\\left( f({\\bf{x}}_i,{\\bf{w}}) - y_i\\right) \\frac{\\partial }{\\partial w_j} f({\\bf{x}}_i, {\\bf{w}})$$\n",
        "\n",
        "recuerda que debe usar las funciones ya implementadas y no usar **ninguna otra libreria**, adicional a las librerias ya pre-cargadas como numpy (la puedes llamar con np.)"
      ]
    },
    {
      "cell_type": "code",
      "metadata": {
        "id": "LTh-Fn3Ft-Dl",
        "colab_type": "code",
        "colab": {}
      },
      "source": [
        "## Ejercicio de codigo\n",
        "def gradiente_descendente(X, Y, eta, iteraciones):\n",
        "    \"\"\"Gradiente descendente para regresión lineal múltiple\n",
        "    X: Matriz de datos extendida\n",
        "    Y: vector con los valores a predecir\n",
        "    W: Vector de parámetros del modelo\n",
        "    eta: Taza de aprendizaje\n",
        "\n",
        "    retorna: W el valor de de los parametros de regresión polinomica\n",
        "    \"\"\"\n",
        "      \n",
        "    #Inicializamos el vector de parámetros con ceros y suamos la función\n",
        "    # para saber el numero de muestras y caractersiticas\n",
        "    N, caracterisitcas = num_muestras_carac(X)\n",
        "    W = np.zeros((1,caracterisitcas))\n",
        "    W = W.reshape(np.size(W), 1)    \n",
        "\n",
        "    for iter in range(iteraciones):\n",
        "        ## Aca debes completar la funcion! recuerda que solo debes usar numpy (np.funcion_a_usar)\n",
        "        ## para actualizar los pesos W.\n",
        "        ## Pista: consulta que efecto tienen los parametros keepdims y axis en np.sum()\n",
        "\n",
        "        W =\n",
        "      \n",
        "    return W\n",
        "    "
      ],
      "execution_count": null,
      "outputs": []
    },
    {
      "cell_type": "code",
      "metadata": {
        "tags": [],
        "id": "JhwNveWct-Dm",
        "colab_type": "code",
        "colab": {}
      },
      "source": [
        "## la funcion que prueba tu implementacion\n",
        "GRADER_LAB_1_P1.run_test(\"ejercicio2\", gradiente_descendente)"
      ],
      "execution_count": null,
      "outputs": []
    },
    {
      "cell_type": "markdown",
      "metadata": {
        "id": "SKjx_cyit-Do",
        "colab_type": "text"
      },
      "source": [
        "## Ejercicio 3: Entrenamiento\n",
        "\n",
        "Con la función implementada vamos a entrenar un modelo y calcular su error de entrenamiento. Antes de realizar esto, debemos separar nuestro conjunto de datos.\n",
        "\n"
      ]
    },
    {
      "cell_type": "code",
      "metadata": {
        "id": "sS9hJDVFt-Do",
        "colab_type": "code",
        "colab": {}
      },
      "source": [
        "# esto para lograr reproductibilidad\n",
        "# de nuestro modelo\n",
        "random.seed(1)\n",
        "# usamos nuestra funcion para obtener el numero de muestras\n",
        "N, _ = num_muestras_carac(x)\n",
        "ind=np.random.permutation(N)\n",
        "Xtrain = x[ind[0:int(math.ceil(0.7*N))],:]\n",
        "Xtest = x[ind[int(math.ceil(0.7*N)):N],:]\n",
        "Ytrain = y[ind[0:int(math.ceil(0.7*N))]]\n",
        "Ytest = y[ind[int(math.ceil(0.7*N)):N]]"
      ],
      "execution_count": null,
      "outputs": []
    },
    {
      "cell_type": "markdown",
      "metadata": {
        "id": "WirOVVB3t-Dq",
        "colab_type": "text"
      },
      "source": [
        "Ahora entrena ejecutando la siguiente linea de codigo"
      ]
    },
    {
      "cell_type": "code",
      "metadata": {
        "tags": [],
        "id": "0yZA7wcCt-Dr",
        "colab_type": "code",
        "colab": {}
      },
      "source": [
        "W = gradiente_descendente(Xtrain, Ytrain, eta = 0.0001, iteraciones=5)"
      ],
      "execution_count": null,
      "outputs": []
    },
    {
      "cell_type": "code",
      "metadata": {
        "id": "wjSZoGRat-Ds",
        "colab_type": "code",
        "cellView": "form",
        "colab": {}
      },
      "source": [
        "#@title Pregunta Abierta\n",
        "#@markdown  ¿por qué fue necesario dividir nuestro conjunto de datos? justifique su respuesta \n",
        "respuesta_3 = \"\" #@param {type:\"string\"}"
      ],
      "execution_count": null,
      "outputs": []
    },
    {
      "cell_type": "markdown",
      "metadata": {
        "id": "vzdmfgTXt-Du",
        "colab_type": "text"
      },
      "source": [
        "Vamos a evaluar nuestro modelo calculando el error cuadrático medio. Para ello vamos crear a una función. Recuerda usar las funciones definidas anteriormente."
      ]
    },
    {
      "cell_type": "code",
      "metadata": {
        "id": "oi2YMyITt-Du",
        "colab_type": "code",
        "colab": {}
      },
      "source": [
        "## Ejercicio de Código\n",
        "def evaluar_modelo (W, X_to_test, Y_True):\n",
        "    \"\"\" funcion que evalua un modelo de regresión usando el error cuadratico medio\n",
        "\n",
        "    W: es un matriz con los parametros del modelo entrenados\n",
        "    X_to_test: conjunto de datos para usar en el evaluamiento del modelo\n",
        "    Y_True: valores reales para usar en el evaluamiento del modelo\n",
        "\n",
        "    retorna: el error cuadratico medio\n",
        "    \"\"\"\n",
        "    ## Comienza a completar tu codigo. recuerda usar la funciones ya definidas\n",
        "\n",
        "    return(error)\n",
        "\n"
      ],
      "execution_count": null,
      "outputs": []
    },
    {
      "cell_type": "code",
      "metadata": {
        "tags": [],
        "id": "5J2Y2CR0t-Dw",
        "colab_type": "code",
        "colab": {}
      },
      "source": [
        "## la funcion que prueba tu implementacion\n",
        "GRADER_LAB_1_P1.run_test(\"ejercicio3\", evaluar_modelo)"
      ],
      "execution_count": null,
      "outputs": []
    },
    {
      "cell_type": "code",
      "metadata": {
        "tags": [],
        "id": "SkVgkc_5t-Dy",
        "colab_type": "code",
        "colab": {}
      },
      "source": [
        "# y ahora usala para calcular el error, para evaluar el modelo\n",
        "error_train = evaluar_modelo(W, X_to_test = Xtrain,  Y_True = Ytrain)\n",
        "print(\"error en entrenamiento del modelo\", error_train)\n",
        "error_test = evaluar_modelo(W, X_to_test = Xtest,  Y_True = Ytest)\n",
        "print(\"error en la evaluación del modelo\", error_test)"
      ],
      "execution_count": null,
      "outputs": []
    },
    {
      "cell_type": "code",
      "metadata": {
        "id": "Dy9Ft9cJt-D0",
        "colab_type": "code",
        "cellView": "form",
        "colab": {}
      },
      "source": [
        "#@title Pregunta Abierta\n",
        "#@markdown ¿que conjunto de datos se uso para evaluar el modelo (cual fue el conjunto de datos asignado a X_to_test para el error test)? justifica tu respuesta\n",
        "respuesta_4 = \"\" #@param {type:\"string\"}"
      ],
      "execution_count": null,
      "outputs": []
    },
    {
      "cell_type": "code",
      "metadata": {
        "id": "50C2ZAubt-D2",
        "colab_type": "code",
        "cellView": "form",
        "colab": {}
      },
      "source": [
        "#@title Pregunta Abierta\n",
        "#@markdown  escribe aqui tu error al evaluar el modelo con tres cifras decimales. ¿Que tan bueno es tu modelo? Justifica tu respuesta.\n",
        "respuesta_5 = \"\" #@param {type:\"string\"}\n"
      ],
      "execution_count": null,
      "outputs": []
    },
    {
      "cell_type": "markdown",
      "metadata": {
        "id": "pq729RWGt-D3",
        "colab_type": "text"
      },
      "source": [
        "Hasta ahora lo que hemos realizado es un regresión lineal no polinómica. Nuestro siguiente objetivo es tomar esta regresión y transformarla en polinómica. Comprenda el funcionamiento de la función propuesta"
      ]
    },
    {
      "cell_type": "code",
      "metadata": {
        "id": "3OU0ZVLut-D3",
        "colab_type": "code",
        "colab": {}
      },
      "source": [
        "#Potencia de polinomio\n",
        "def potenciaPolinomio(X,grado):\n",
        "    \"\"\"calcula la potencia del polinomio\n",
        "    X: los valores que corresponden a las caractersiticas\n",
        "    grado: esl grado para realizar la potencia al polinomio\n",
        "    retorna: el valor de X despues elevarlo al grado del polinimoo indicado\n",
        "    \"\"\"\n",
        "    X2 = X.copy()\n",
        "    \n",
        "    if grado != 1:\n",
        "        for i in range(2,grado+1):\n",
        "            Xadd = X**i\n",
        "            X2 = np.concatenate((X2, Xadd), axis=1)\n",
        "    \n",
        "    return X2"
      ],
      "execution_count": null,
      "outputs": []
    },
    {
      "cell_type": "markdown",
      "metadata": {
        "id": "N37UeA5mt-D5",
        "colab_type": "text"
      },
      "source": [
        "ahora debemos usar esta función para completar la siguiente, recuerda que puedes reusar funciones desarrolladas anteriomente"
      ]
    },
    {
      "cell_type": "code",
      "metadata": {
        "id": "lJd2w7ezt-D5",
        "colab_type": "code",
        "colab": {}
      },
      "source": [
        "## Ejercicio de codigo\n",
        "def gradiente_descendente_poly (X, Y, eta, iteraciones, grado):\n",
        "    \"\"\"Gradiente descendente para regresión lineal múltiple\n",
        "    X: Matriz de datos extendida\n",
        "    Y: vector con los valores a predecir\n",
        "    W: Vector de parámetros del modelo\n",
        "    eta: Taza de aprendizaje\n",
        "    iteraciones: numero de iteraciones maximo para el gradiente\n",
        "    grado: el valor del polinomio a usar\n",
        "    retorna: W el valor de de los parametros de regresión polinomica\n",
        "    \"\"\"\n",
        "    X2 = potenciaPolinomio(X,grado)\n",
        "    ## completa el codigo\n",
        "\n",
        "    return (W)\n",
        "\n",
        "def evaluar_modelo_poly (W, X_to_test, Y_True, grado):\n",
        "    \"\"\" funcion que evalua un modelo de regresión usando el error cuadratico medio\n",
        "\n",
        "    W: es un matriz con los parametros del modelo entrenados\n",
        "    X_to_test: conjunto de datos para usar en el evaluamiento del modelo\n",
        "    Y_True: valores reales para usar en el evaluamiento del modelo\n",
        "    grado: grado del polinimio a usar\n",
        "\n",
        "    retorna: el error cuadratico medio\n",
        "    \"\"\"\n",
        "    ## Comienza a completar tu codigo. recuerda usar la funciones ya definidas\n",
        "    X2 = potenciaPolinomio(X_to_test,grado)\n",
        "    \n",
        "    return(error)\n",
        "\n"
      ],
      "execution_count": null,
      "outputs": []
    },
    {
      "cell_type": "code",
      "metadata": {
        "tags": [],
        "id": "ji7q97o1t-D7",
        "colab_type": "code",
        "colab": {}
      },
      "source": [
        "## la funcion que prueba tu implementacion\n",
        "GRADER_LAB_1_P1.run_test(\"ejercicio4\", gradiente_descendente_poly)\n",
        "GRADER_LAB_1_P1.run_test(\"ejercicio5\", evaluar_modelo_poly)"
      ],
      "execution_count": null,
      "outputs": []
    },
    {
      "cell_type": "code",
      "metadata": {
        "tags": [],
        "id": "FYhz7MRIt-D8",
        "colab_type": "code",
        "colab": {}
      },
      "source": [
        "# entrenamos\n",
        "W = gradiente_descendente_poly(Xtrain, Ytrain, eta = 0.0001, iteraciones=2, grado = 2)"
      ],
      "execution_count": null,
      "outputs": []
    },
    {
      "cell_type": "code",
      "metadata": {
        "tags": [],
        "id": "CYMnh6n7t-EA",
        "colab_type": "code",
        "colab": {}
      },
      "source": [
        "# completa los parametros para evaluar el modelo\n",
        "error_test = evaluar_modelo_poly(W, X_to_test = Xtest,  Y_True = Ytest, grado = 2)\n",
        "print(\"error en la evaluación del modelo\", error_test)"
      ],
      "execution_count": null,
      "outputs": []
    },
    {
      "cell_type": "markdown",
      "metadata": {
        "id": "5pBn_Tt6t-EC",
        "colab_type": "text"
      },
      "source": [
        "## Ejercicio 4: Experimentar\n",
        "\n",
        "En nuestro primer experimento vamos a evaluar el rendimiento del modelo usando varias tasas de aprendizaje y grados de polinimios. Vamos a dejar por ahora un numero de iteraciones fijas = 5. Para ello completa la siguiente función.\n",
        "\n"
      ]
    },
    {
      "cell_type": "code",
      "metadata": {
        "id": "ALxnYTFTt-EC",
        "colab_type": "code",
        "colab": {}
      },
      "source": [
        "## ejercicio de codigo\n",
        "def experimentar (Xtrain, Xtest, Ytrain, Ytest, tasas, grados):\n",
        "    \"\"\" funcion para realizar experimentos.\n",
        "    Xtrain: conjunto de datos\n",
        "    Xtest:\n",
        "    Ytrain:\n",
        "    Ytest:\n",
        "    tasas: Es una lista con los valores númericos de tasas de aprendizaje \n",
        "        para realizar los experimentos\n",
        "    grados: Es una lista con los valores númericos de grados \n",
        "        para realizar los experimentos\n",
        "    retorna: un dataframe con el resultados de los experimentos\n",
        "    \"\"\"\n",
        "    numero_iter = 5\n",
        "\n",
        "    resultados = pd.DataFrame()\n",
        "    idx = 0 # indice\n",
        "    for eta in tasas:\n",
        "        for grado in grados:\n",
        "\n",
        "            W =\n",
        "            error =\n",
        "        \n",
        "            resultados.loc[idx,'grado'] = grado\n",
        "            resultados.loc[idx,'tasa de aprendizaje'] = eta\n",
        "            resultados.loc[idx,'ecm'] = error\n",
        "            idx = idx+1\n",
        "\n",
        "    return (resultados)"
      ],
      "execution_count": null,
      "outputs": []
    },
    {
      "cell_type": "code",
      "metadata": {
        "tags": [],
        "id": "dKC_CnY1t-EE",
        "colab_type": "code",
        "colab": {}
      },
      "source": [
        "## la funcion que prueba tu implementacion\n",
        "GRADER_LAB_1_P1.run_test(\"ejercicio6\", experimentar)"
      ],
      "execution_count": null,
      "outputs": []
    },
    {
      "cell_type": "code",
      "metadata": {
        "tags": [],
        "id": "8oxa-XkKt-EF",
        "colab_type": "code",
        "colab": {}
      },
      "source": [
        "## Ahora usa para verlos los resultados\n",
        "tasas_aprendizaje = [1e-6, 1e-5, 1e-3, 1e-2]\n",
        "grados_polinomio = [1,2,3]\n",
        "resultados_ex1 = experimentar(Xtrain, Xtest, Ytrain, Ytest, tasas_aprendizaje, grados_polinomio)"
      ],
      "execution_count": null,
      "outputs": []
    },
    {
      "cell_type": "code",
      "metadata": {
        "tags": [],
        "id": "zAOcZfoRt-EG",
        "colab_type": "code",
        "colab": {}
      },
      "source": [
        "#para ver los resultados\n",
        "resultados_ex1"
      ],
      "execution_count": null,
      "outputs": []
    },
    {
      "cell_type": "markdown",
      "metadata": {
        "id": "yoDS2e-gt-EI",
        "colab_type": "text"
      },
      "source": [
        "Si has implementado todo correctamente, parecieria que nuestros entrenamientos no esta logrando buenos resultados (hasta parece haber errores infinitos! o no determinados!). Ahora Entiende la siguiente función. \n"
      ]
    },
    {
      "cell_type": "code",
      "metadata": {
        "id": "IhHXjgOmt-EI",
        "colab_type": "code",
        "colab": {}
      },
      "source": [
        "#Normalizamos los datos\n",
        "def normalizar(Xtrain, Xtest):\n",
        "    \"\"\" función que se usa para normalizar los datos con\n",
        "    un metodo especifico\n",
        "    Xtrain: matriz de datos entrenamiento a normalizar\n",
        "    Xtest: matriz de datos evaluación a normalizar\n",
        "    retorna: matrices normalizadas\n",
        "    \"\"\"\n",
        "    \n",
        "    media = np.mean(Xtrain, axis = 0)\n",
        "    desvia = np.std(Xtrain, axis = 0)\n",
        "    Xtrain_n = stats.stats.zscore(Xtrain)\n",
        "    Xtest_n = (Xtest - media )/desvia\n",
        "    # si hay una desviacion por cero, reemplazamos los nan\n",
        "    Xtrain_n = np.nan_to_num(Xtrain_n)\n",
        "    Xtest_n = np.nan_to_num(Xtest_n)\n",
        "    return (Xtrain_n, Xtest_n)"
      ],
      "execution_count": null,
      "outputs": []
    },
    {
      "cell_type": "markdown",
      "metadata": {
        "id": "PzsHpPk1t-EK",
        "colab_type": "text"
      },
      "source": [
        "Ahora vuelve a realizar los mismos experimentos pero esta vez usa los valores de salida de la función anterior."
      ]
    },
    {
      "cell_type": "code",
      "metadata": {
        "tags": [],
        "id": "ZZedE9Qdt-EK",
        "colab_type": "code",
        "colab": {}
      },
      "source": [
        "Xtrain_n, Xtest_n = normalizar(Xtrain, Xtest)"
      ],
      "execution_count": null,
      "outputs": []
    },
    {
      "cell_type": "code",
      "metadata": {
        "tags": [],
        "id": "j2a8O7c7t-EM",
        "colab_type": "code",
        "colab": {}
      },
      "source": [
        "resultados_ex2 = experimentar(Xtrain_n, Xtest_n, Ytrain, Ytest, tasas_aprendizaje, grados_polinomio)\n",
        "#para ver los resultados\n",
        "resultados_ex2"
      ],
      "execution_count": null,
      "outputs": []
    },
    {
      "cell_type": "code",
      "metadata": {
        "id": "CANS0MVut-EO",
        "colab_type": "code",
        "colab": {}
      },
      "source": [
        "# ejecuta esta linea de codigo para ver graficamos tus resultados\n",
        "# aca usamos una libreria llamada seaborn\n",
        "import seaborn as sns\n",
        "sns.catplot(data = resultados_ex2, x = 'tasa de aprendizaje',\n",
        "            y = 'ecm',hue ='grado', kind = 'bar')"
      ],
      "execution_count": null,
      "outputs": []
    },
    {
      "cell_type": "markdown",
      "metadata": {
        "id": "LLvDR6k5t-EQ",
        "colab_type": "text"
      },
      "source": [
        "Ten en cuenta el resutaldo de los  dos experimentos y  responde la  siguiente pregunta abierta"
      ]
    },
    {
      "cell_type": "code",
      "metadata": {
        "id": "aVFbsu0wt-EQ",
        "colab_type": "code",
        "cellView": "form",
        "colab": {}
      },
      "source": [
        "#@title Pregunta Abierta\n",
        "#@markdown  ¿Qué proceso hace la normalización sobre los datos? Consulte por qué es necesaria la normalización en el modelo de regresión y cuáles son los tipos de normalización más comunes. ¿Cuál de ellos se aplicó en el laboratorio?\n",
        "respuesta_5 = \"\" #@param {type:\"string\"}"
      ],
      "execution_count": null,
      "outputs": []
    },
    {
      "cell_type": "markdown",
      "metadata": {
        "id": "1Z3nka5at-ES",
        "colab_type": "text"
      },
      "source": [
        "Finalmente, en nuestro tercer experimento, vamos ver el efecto de las iteraciones sobre el error. completa la siguiente función. Esta vez la tasa de aprendizaje es constante"
      ]
    },
    {
      "cell_type": "code",
      "metadata": {
        "tags": [],
        "id": "i2eHfZC9t-ES",
        "colab_type": "code",
        "colab": {}
      },
      "source": [
        "## ejercicio de codigo\n",
        "def experimentar_2 (Xtrain, Xtest, Ytrain, Ytest, iteraciones, grados):\n",
        "    \"\"\" funcion para realizar experimentos.\n",
        "    Xtrain: conjunto de datos\n",
        "    Xtest:\n",
        "    Ytrain:\n",
        "    Ytest:\n",
        "    tasas: Es una lista con los valores númericos de tasas de aprendizaje \n",
        "        para realizar los experimentos\n",
        "    rangos: Es una lista con los valores númericos de grados \n",
        "        para realizar los experimentos\n",
        "    retorna: un dataframe con el resultados de los experimentos\n",
        "    \"\"\"\n",
        "    eta = 1e-2\n",
        "    resultados = pd.DataFrame()\n",
        "    idx = 0 # indice\n",
        "    for iter in iteraciones:\n",
        "        for grado in grados:\n",
        "            W = \n",
        "            error = \n",
        "        \n",
        "            resultados.loc[idx,'iteraciones'] = iter\n",
        "            resultados.loc[idx,'grado'] = grado\n",
        "            resultados.loc[idx,'ecm'] = error\n",
        "            idx = idx+1\n",
        "    return (resultados)"
      ],
      "execution_count": null,
      "outputs": []
    },
    {
      "cell_type": "code",
      "metadata": {
        "tags": [],
        "id": "1Q3TALf8t-ET",
        "colab_type": "code",
        "colab": {}
      },
      "source": [
        "## la funcion que prueba tu implementacion\n",
        "GRADER_LAB_1_P1.run_test(\"ejercicio7\", experimentar_2)"
      ],
      "execution_count": null,
      "outputs": []
    },
    {
      "cell_type": "code",
      "metadata": {
        "tags": [],
        "id": "GZIKf7PIt-EV",
        "colab_type": "code",
        "colab": {}
      },
      "source": [
        "num_iters = [1,5,10,20,50, 100,200]\n",
        "grados_polinomio = [1,2]\n",
        "# usamos la funcion para evaliar los resultados\n",
        "resultados_ex3 = experimentar_2(Xtrain_n, Xtest_n, Ytrain, Ytest, num_iters, grados_polinomio )"
      ],
      "execution_count": null,
      "outputs": []
    },
    {
      "cell_type": "code",
      "metadata": {
        "id": "E5ekonH6t-EW",
        "colab_type": "code",
        "colab": {}
      },
      "source": [
        "# ejecuta esta linea de codigo para ver raficamente tus resultados\n",
        "# aca usamos una libreria llamada seaborn\n",
        "import seaborn as sns\n",
        "sns.relplot(data = resultados_ex3, x = 'iteraciones',\n",
        "            y = 'ecm',col ='grado', kind = 'line')"
      ],
      "execution_count": null,
      "outputs": []
    },
    {
      "cell_type": "code",
      "metadata": {
        "id": "Y0-BAqdgt-EY",
        "colab_type": "code",
        "cellView": "form",
        "colab": {}
      },
      "source": [
        "#@title Pregunta Abierta\n",
        "#@markdown  ¿con base a los resultados anteriores, qué efecto tiene el numero de iteraciones en el error?\n",
        "respuesta_6 = \"\" #@param {type:\"string\"}"
      ],
      "execution_count": null,
      "outputs": []
    },
    {
      "cell_type": "code",
      "metadata": {
        "id": "NDfO1dvJt-Eb",
        "colab_type": "code",
        "cellView": "form",
        "colab": {}
      },
      "source": [
        "#@title Pregunta Abierta\n",
        "#@markdown  ¿que efecto tiene el grado del polinomio en el ECM?\n",
        "respuesta_7 = \"\" #@param {type:\"string\"}"
      ],
      "execution_count": null,
      "outputs": []
    },
    {
      "cell_type": "code",
      "metadata": {
        "id": "gkLeD-pMuk_g",
        "colab_type": "code",
        "colab": {}
      },
      "source": [
        "GRADER_LAB_1_P1.check_tests()"
      ],
      "execution_count": null,
      "outputs": []
    },
    {
      "cell_type": "code",
      "metadata": {
        "id": "Xz0gLt5At-Ec",
        "colab_type": "code",
        "cellView": "form",
        "colab": {}
      },
      "source": [
        "#@title Integrantes\n",
        "codigo_integrante_1 ='' #@param {type:\"string\"}\n",
        "codigo_integrante_2 = ''  #@param {type:\"string\"}"
      ],
      "execution_count": 3,
      "outputs": []
    },
    {
      "cell_type": "markdown",
      "metadata": {
        "id": "C_jp0Yjot-Ee",
        "colab_type": "text"
      },
      "source": [
        "----\n",
        "esta linea de codigo va fallar, es de uso exclusivo del los profesores\n"
      ]
    },
    {
      "cell_type": "code",
      "metadata": {
        "id": "OxiTM5g7t-Ef",
        "colab_type": "code",
        "colab": {}
      },
      "source": [
        "GRADER_LAB_1_P1.grade()"
      ],
      "execution_count": null,
      "outputs": []
    }
  ]
}